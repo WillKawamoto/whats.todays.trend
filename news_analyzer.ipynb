{
 "cells": [
  {
   "cell_type": "markdown",
   "metadata": {
    "colab_type": "text",
    "id": "view-in-github"
   },
   "source": [
    "<a href=\"https://colab.research.google.com/github/ykim879/whats.todays.trend/blob/master/news_analyzer.ipynb\" target=\"_parent\"><img src=\"https://colab.research.google.com/assets/colab-badge.svg\" alt=\"Open In Colab\"/></a>"
   ]
  },
  {
   "cell_type": "markdown",
   "metadata": {
    "colab_type": "text",
    "id": "VTA9UXv7skDf"
   },
   "source": [
    "# News Analyzer"
   ]
  },
  {
   "cell_type": "code",
   "execution_count": 5,
   "metadata": {
    "colab": {},
    "colab_type": "code",
    "id": "FmMh0GmerjOr"
   },
   "outputs": [],
   "source": [
    "import requests\n",
    "import pandas as pd"
   ]
  },
  {
   "cell_type": "code",
   "execution_count": 25,
   "metadata": {
    "colab": {},
    "colab_type": "code",
    "id": "b0Dy0sl1sx09"
   },
   "outputs": [],
   "source": [
    "response = requests.get('https://newsapi.org/v2/sources?'\n",
    "\t\t\t   'language=en&country=us&'\n",
    "\t\t\t   'apiKey=55b9f473b6e642ac862d315a124c6619')\n",
    "sources = response.json()['sources']\n",
    "df = pd.DataFrame();\n",
    "pd.set_option('display.max_columns', 7)\n",
    "for source in sources:\n",
    "  row = pd.Series(source)\n",
    "  df = df.append(row, ignore_index = True)\n",
    "df.set_index(\"name\", inplace = True)"
   ]
  },
  {
   "cell_type": "code",
   "execution_count": 1,
   "metadata": {
    "colab": {
     "base_uri": "https://localhost:8080/",
     "height": 1000
    },
    "colab_type": "code",
    "id": "ef2LuuHltdtu",
    "outputId": "f79e60fb-a325-4210-de35-32d9712659cb"
   },
   "outputs": [
    {
     "ename": "NameError",
     "evalue": "name 'df' is not defined",
     "output_type": "error",
     "traceback": [
      "\u001b[1;31m---------------------------------------------------------------------------\u001b[0m",
      "\u001b[1;31mNameError\u001b[0m                                 Traceback (most recent call last)",
      "\u001b[1;32m<ipython-input-1-2a851eda2e88>\u001b[0m in \u001b[0;36m<module>\u001b[1;34m\u001b[0m\n\u001b[1;32m----> 1\u001b[1;33m \u001b[0mprint\u001b[0m\u001b[1;33m(\u001b[0m\u001b[0mdf\u001b[0m\u001b[1;33m)\u001b[0m\u001b[1;33m\u001b[0m\u001b[1;33m\u001b[0m\u001b[0m\n\u001b[0m",
      "\u001b[1;31mNameError\u001b[0m: name 'df' is not defined"
     ]
    }
   ],
   "source": [
    "print(df)"
   ]
  },
  {
   "cell_type": "markdown",
   "metadata": {
    "colab_type": "text",
    "id": "fTIi51gyzQpT"
   },
   "source": [
    "## Method: eachNewsHeadlines\n",
    "### collects each 55 news headline"
   ]
  },
  {
   "cell_type": "code",
   "execution_count": 35,
   "metadata": {
    "colab": {},
    "colab_type": "code",
    "id": "8F3fBTFHpQAX"
   },
   "outputs": [],
   "source": [
    "def eachNewsHeadlines(ID):\n",
    "\tresponse = requests.get('https://newsapi.org/v2/top-headlines?sources=' + ID + '&apiKey=55b9f473b6e642ac862d315a124c6619')\n",
    "\tjson = response.json()\n",
    "\tif json['status'] != 'ok':\n",
    "\t\traise IOError('API key is probably overused :(')\n",
    "\ttopNews = []\n",
    "\ttopNews.append(ID)\n",
    "\tfor elem in json['articles']:\n",
    "\t\ttopNews.append(elem['title'])\n",
    "\treturn topNews"
   ]
  },
  {
   "cell_type": "code",
   "execution_count": 45,
   "metadata": {
    "colab": {
     "base_uri": "https://localhost:8080/",
     "height": 972
    },
    "colab_type": "code",
    "id": "Ysr6mh7pxPKN",
    "outputId": "73b17a6d-d112-4e10-df0e-4225e8007458"
   },
   "outputs": [
    {
     "name": "stdout",
     "output_type": "stream",
     "text": [
      "['abc-news', 'Protesters arrested in Charlotte as GOP delegates arrive', 'Trump ordered to pay $44,100 in Stormy Daniels legal fees', 'US WeChat users sue Trump over order banning messaging app', 'House set to vote on USPS bill amid mail-in voting controversy', 'Officials: Police shoot, kill man outside store in Louisiana', 'Statue of lauded rocker Chris Cornell vandalized in Seattle', \"Family says USPS lost veterans' remains\", 'Tropical Storm Laura, Marco simultaneously heading toward Gulf of Mexico', 'Smoke fills air as Portland police clear riot at precinct', \"Steve Bannon calls his arrest 'a political hit job,' says effort was in support of Trump\"]\n",
      "['al-jazeera-english', 'West African mediators arrive in Mali to push for coup reversal', \"Alexei Navalny's health condition 'very worrying'\", 'Global coronavirus death toll hits 800,000: Live news']\n",
      "['ars-technica', 'New Wonder Woman 1984 trailer offers first look at Kristen Wiig’s Cheetah', 'Hint of COVID-19 immunity: 3 sailors with antibodies spared in outbreak at sea', 'This plane flies itself—we went for a ride', 'The race to collect the pandemic’s history—as it unfolds', 'Former Uber security chief faces criminal charges for hiding 2016 breach', 'July was a hot one, but here’s what NOAA sees ahead for the US', 'How do you do, fellow gamers?—Burger King exploits Twitch for cheap ads', 'Peer inside a mummified cat from ancient Egypt, courtesy of high-res 3D X-rays', 'Ancient lake sites suggest lots of precipitation on Mars', 'Untested COVID-19 vaccine, Sputnik V, begins 40,000-person trial next week']\n",
      "['associated-press', \"London's famous Tower Bridge gets stuck in an open position\", '2 bodies found, 2 missing after explosion in Texas port', \"Ketamine that's injected during arrests draws new scrutiny\", 'AP EXCLUSIVE: US faces back-to-school laptop shortage', 'How does coronavirus spread at a concert? Germans do a test', \"AP FACT CHECK: Trump's distortion on Dems and the pledge\", 'As more colleges stay online, students demand tuition cuts', 'The bully pulpit: Trump pushes Washington, but virus resists', 'Miami ICU nurse: I have never in my life seen so many deaths', \"Democrats see racism in GOP mispronunciations of 'Kamala'\"]\n",
      "['axios', 'Axios Pro Rata: Silicon Valley&#x27;s Veep — AirIPO — Brooks Brothers lives', 'The busiest owner in sports', 'GOP congressman condemns QAnon after conspiracy theorist wins Georgia runoff', 'House Oversight chair introduces bill to preserve USPS services', 'U.S. threatens to veto UN peacekeeping in Lebanon over Hezbollah concerns', \"Poll: America's confidence in public school system jumps amid pandemic\", 'Watch: Gen Z and the future of politics', 'Watch: The future of employability in Milwaukee', \"Watch: Industry's digital update\", 'Coronavirus dashboard']\n",
      "['bleacher-report', 'NBA', 'Anthony Edwards B/R Exclusive', '2020 MLB Prospect Power Rankings for Top 30 Catchers', 'Addressing the Biggest Questions About NBA Draft Prospect Obi Toppin', 'The Biggest MLB Trade Chips Available from Sellers Ahead of 2020 Deadline', '2020 NBA Draft: Long Shots Who Could Sneak into the Lottery', \"NBA Players Drop in to 'Courtnite'\"]\n",
      "['bloomberg', 'Student Travel Company STA Stops Trading in the U.K.', 'Smoke Fills Air as Portland Police Clear Riot at Precinct', 'Stressed About U.S. Stocks, Investors Are Betting Big on Europe', 'Sarah Halzack on Clothing Stores Fight Back (Podcast)', \"Boeing's Fed Backstop Leaves Workers in Lurch\", 'Flagging Brexit Negotiations Revive the Specter of No Deal Again', \"TikTok's U.S. Chief Says Video Site Will Stay Despite Trump Ban\", 'Amazon Told to Come Clean in German Toilet-Paper Pricing Probe', 'A Reeling Lebanon Is Back in Lockdown as Coronavirus Surges', 'Stocks Extend Weekly Advance After Economic Data: Markets Wrap']\n",
      "['breitbart-news', 'Innocent Bystander Paralyzed After NYC Shooting in Broad Daylight', \"TN Bishop: I Don’t See How Joe Biden Claims to Be a ‘Faithful Catholic'\", \"Portland Rioters Threaten People in Homes: 'Come Out, into Streets'\", \"Police: Multiple Arrests Made During Riot Outside Portland's North Precinct\", \"Nolte: Rose McGowan Rips DNC, Clintons -- 'I Believe Joe Biden Is a Rapist'\", \"Rose McGowan Body Slams Alyssa Milano: 'Get Off My Coattails You F**ing Fraud'\", \"Donald Trump: Democrats Removed 'God' from Pledge of Allegiance 'on Purpose'\", \"Donald Trump: Joe Biden Is 'More Likable,' but Hillary Clinton Is 'Much Smarter'\", \"FNC's Carlson: Democrats See 'Fading' Biden's Non-Threatening Nature as an Advantage\", \"Biggs: Biden National Mask Mandate About 'Control' - 'Going to Have a Big Problem' with Central Power if They'll Shut Down over Flu\"]\n",
      "['business-insider', 'Trump attacked and misrepresented Democrats on Pledge of Allegiance - Business Insider', 'Costa Rica reopening in September to US tourists from 6 states - Insider', 'Joe Biden economic plan details, would mull stimulus checks if elected - Business Insider', 'How Carnival mishandled the coronavirus, according to cruise employees - Business Insider', 'Apple helped build top secret iPod that only 4 employees knew about - Business Insider', 'COVID-19: List of countries that have reported no coronavirus cases - Business Insider', 'Tech execs are donating millions to get psychedelics FDA-approved - Business Insider', 'Major wildfires growing in northern California: updates - Insider', 'Biden rips into Trump for not standing up to Putin over Navalny - Business Insider', 'How Amazon exec Dave Clark became a force in corporate America - Business Insider']\n",
      "['buzzfeed', \"If You Don't Pass This Trivia Quiz, You Don't Know Anything\", '16 Jokes For Anyone Obsessed With Aragorn, Legolas, And Gimli From \"The Lord Of The Rings\"', 'Sofia Vergara Responded To A Clip Of Ellen DeGeneres Joking About Her Accent', 'Maine Wedding Reception Coronavirus Outbreak Leads To One Death', '17 Movie Scenes That Never Fail To Frustrate People', 'People Are Sharing The Cooking Habits That Absolutely Drive Them Up The Wall', '47 Things That Made Me Think, “Why Don’t I Own That Already?”', '19 Times Men Described Women In Books That Make Me Question Why They Have Rights', '17 Rom-Com Scenes That Are Accidentally Skin-Crawlingly Cringe', 'WTF Is Happening Today? BuzzFeed Newsletters Can Help!']\n",
      "['cbs-news', \"The race begins for Kamala Harris' Senate seat\", 'California governor weighing potential replacements for Kamala Harris in Senate', 'How does coronavirus spread? When will a vaccine be available? Your COVID-19 questions, answered', 'The Gulf Coast preps for two tropical storms to make landfall', 'White House Rose Garden changes unveiled by first lady Melania Trump ahead of her Republican National Convention speech', 'House to vote on reversing changes and providing $25 billion for U.S. Postal Service', 'One person dead after wedding reception in Maine linked to COVID-19 outbreak', 'Crews in California battle some of the largest blazes in state history', '2 tropical storms threatening the Gulf Coast could make history', \"Could the U.K.'s Boris Johson get along with Joe Biden?\"]\n",
      "['cnn', 'Biden says he would shut down US to stop coronavirus if scientists recommended it', 'Fact Check: Trump misleads on lowering drug prices', 'First lady Melania Trump unveils White House Rose Garden restorations', 'The US Senate candidate who took a QAnon pledge', 'Young voters prefer Biden, but they may not vote', 'Smerconish: This teenager may shield Joe Biden from future attacks on his mental faculties - CNN Video', 'Trump is leading Republicans to an unwanted record in the popular vote', \"The Postal Service may need a bailout. But it's actually making tons of cash\", \"Analysis: Pressure mounts on Trump to match Biden's convention appearance\", 'Opinion: The Republican Party has a tough choice to make']\n",
      "['crypto-coins-news', 'The Stock Market Is Holding Its Breath for a Pullback', \"Meghan Markle Gets Trashed For Voting Remarks - and I'm Exasperated\", \"Yaya Toure is Wrong. Pep Guardiola Doesn't Need the Champions League\", \"High Jobless Claims Aren't Going Away in This 'Record' Stock Market\", \"Here's Why the U.S. Stock Market's Recovery Is an Illusion\", \"The Dow Is Rallying Because Wall Street Doesn't Care If Biden Wins\", \"The Ugly Truth About the Netflix Cuties 'Pedobait' Scandal\", 'Could the Housing Market Save Capitalism as We Know It?', \"Here's Why Persona 4 May Herald a New PC 'Golden' Age for Sega\", \"It's Obvious Why Kate Middleton Didn't Pander to Meghan Markle\"]\n",
      "['engadget', \"Radio Flyer's $100 Tesla Model Y is powered by kids' feet\", 'Samsung Galaxy Note 20 Ultra review: Unabashedly over the top', \"Hisense's $4,000 laser projector comes with a 100-inch screen\", \"Google's smart displays will simplify multi-room audio\", 'Google asks to test a new type of wireless broadband']\n",
      "['entertainment-weekly', 'Greg Berlanti says pandemic will have an impact on the next Arrowverse crossover', \"<em>Brooklyn Nine-Nine</em> star Melissa Fumero calls out Canadian remake's whitewashed casting\", '<em>The Suicide Squad</em>: James Gunn reveals a bunch of new footage', \"<em>The Flash</em> movie reveals first look at Barry Allen's new suit\", \"Gal Gadot faces off with Kristen Wiig's Cheetah in new <em>Wonder Woman 1984</em> trailer\", \"Sofia Vergara defends Ellen DeGeneres after interview clip resurfaces: 'I was never a victim'\", 'What to Watch this Weekend: <em>Lucifer</em> rises again with season 5 premiere on Netflix']\n",
      "['espn', 'San Francisco 49ers lineman Trent Williams has high praise for teammate Nick Bosa', 'Brittney Griner leaves WNBA bubble, Phoenix Mercury announce', \"Mavericks' Luka Doncic likely to be game-time decision for Game 4 vs. Clippers\", \"Bucks' Marvin Williams and Magic's James Ennis ejected in NBA Eastern Conference first-round Game 3 altercation\", 'Ron Rivera acknowledges struggles ahead, asks team to step up', 'Ravens sent Earl Thomas home Friday after fiery on-field argument with Chuck Clark, source says', \"Fantasy football rankings - Eric Karabell's running back tiers\"]\n",
      "['espn-cric-info', 'PCB hands Umar Akmal three-year ban from all cricket | ESPNcricinfo.com', \"Akram's yorkers, Hegg's hits, and Chapple's 6 for 18 | ESPNcricinfo.com\", \"'It was the first time we realised we can also cry after winning a game'\", \"Five famous people (and one cat) you didn't know have ESPNcricinfo profiles | ESPNcricinfo.com\", \"Sri Lanka don't win the 1996 World Cup | ESPNcricinfo.com\", \"I'm fighting my own benchmarks - R Ashwin | ESPNcricinfo.com\", 'The Coronavirus soap opera, starring KP, Warnie, Mahela | ESPNcricinfo.com', 'Five CSK games only hardcore fans will remember | ESPNcricinfo.com', \"'This is a ball the whole world will remember' - Saeed Ajmal v Sachin Tendulkar revisited | ESPNcricinfo.com\", 'What we learned from watching the 1992 World Cup final in full again | ESPNcricinfo.com']\n",
      "['fortune', 'A pair of twin YouTubers offer a lesson in openness', 'Paul Ryan jumps onto the SPAC train', 'Why Barack Obama would be taking down TikTok, too', 'The Chinese and U.S. Internets are drifting apart. Why that’s bad for the whole world', 'Women are finally reclaiming the ‘house dress’', 'Corporate values under a Biden presidency', 'Investors ride the Big Tech rally even as COVID cases and unemployment spike', 'COVID-19 has spurred rapid transformation in health care. Let’s make sure it stays that way', 'Why female leaders are faring better than ‘wartime presidents’ against COVID-19', 'The President is going postal']\n",
      "['fox-news', 'Students demand tuition cuts as more colleges pivot to virtual learning', \"Newt Gingrich: Why Biden's boffo convention speech could hobble the rest of his campaign\", 'Portland attack victim on the arrest of Marquese Love who kicked him from behind', \"Pelosi rips Trump for trying to 'scare' voters: 'Don't pay any attention to what the president is saying'\", 'House holds rare Saturday vote on postal funding', 'Pelosi: It’s very important to shine a light on the Postal Service', 'Sen. John Kennedy on battle over COVID relief, USPS funding fight', 'Rep. Jim Jordan on debate over mail-in voting, USPS funding', 'Wedding guest in Texas shoots groom in chest; bride refuses to talk', 'Missing Arkansas jogger found dead, suspect in custody: reports']\n",
      "['fox-sports', '', 'WWE', '', 'MLB', 'Watch WWE Friday Night SmackDown from July 17th in 3 minutes | FRIDAY NIGHT SMACKDOWN (VIDEO)', \"Which two members of the Madden 21 '99 Club' would you build around?\", 'MVP, Cy Young, Rookie of the Year: Who are favorites to win MLB awards?', '', 'NFL News, Videos, Scores, Teams, Standings, Stats', \"The NFL and Daniel Snyder respond to Thursday's Washington Post story\"]\n",
      "['google-news', 'Detroit firefighter veteran found dead after diving into river to save 3 young girls', 'House Democrats pass $25bn bill to fund US Postal Service', \"Syracuse University suspends 23 students after 'incredibly reckless' gathering\", 'Trump looks to Republican convention for optimistic campaign reboot', 'First lady Melania Trump unveils White House Rose Garden restorations', 'More than 1 million acres have burned in California since July as monster fires rage around Bay Area', '2 tropical storms pose a potential double hurricane threat to U.S. Gulf Coast', 'Trump set to block controversial Alaska gold mine', \"The 14-hour storm caused extensive damage. Now Iowans are trying to recover from the 'land hurricane'\"]\n",
      "['hacker-news', \"Reverse-engineering the 8086's Arithmetic/Logic Unit from die photos\", 'degoogle', 'Future of DeepSpeech / STT after recent changes at Mozilla', 'Build tools around workflows, not workflows around tools', 'VTM', 'Initial public offerings are back in Silicon Valley', 'Zero G: Some German mobile users still waiting for a signal', 'Uber and Lyft competitors ready to pounce if service is suspended in California', 'Mystery of Interstellar Visitor &lsquo;Oumuamua Gets Trickier', '22 investors backed Bezos in 1994. Their returns? Mind-boggling']\n",
      "['ign', \"How Is Steve Trevor Alive in Wonder Woman? Chris Pine's Return, Explained - IGN\", 'Gotham Knights: WB Games Montreal Explains Why It Killed Batman - IGN', 'The Suicide Squad Movie Trailer - IGN', \"The Suicide Squad Who's Who: Full Cast and Character Reveals - IGN\", 'Batman: 12 Years a Slave Screenwriter Reinvents the Dark Knight in 2021 - IGN', 'Daily Deals: Big Savings on DC Movies, Games and More - IGN', 'DC FanDome: The Biggest and Best Announcements and Reveals So Far - IGN', \"James Gunn's Suicide Squad Is a 'Gritty War Movie' With Exploding Genitals - IGN\", 'The Flash: New Movie Costume Revealed - IGN', 'The Suicide Cast Revealed: Who Does Idris Elba Play? - IGN']\n",
      "['mashable', \"How to make iPhone's Screen Time actually helpful\", 'AOC opens up about death threats after baseball team shows offensive video of her', 'Uber will now kick off riders with low ratings', 'Metal Mario makes his Hot Wheels debut this summer', 'Amazon challenges Google with smaller, cheaper Echo Show', 'DC’s ‘Doom Patrol’ is the rare superhero show that understands trauma', 'Trump and Biden court older women demographic with Facebook ads']\n",
      "['medical-news-today', 'Even mild COVID-19 may produce long lasting immunity', 'Is COVID-19 more dangerous because SARS-CoV-2 reduces specific microRNAs?', 'Treating COVID-19: Bipolar drug shows promise and other hopeful findings', 'The Recovery Room: News beyond the pandemic', 'Tool to help manage COVID-19 patients with diabetes', 'Dry heat can effectively sanitize N95 masks', 'Will the COVID-19 pandemic and Black Lives Matter change science and society?', 'COVID-19: How a new blood test could help speed up vaccine development and population screening', 'How does weather affect COVID-19?', 'Live updates: Coronavirus COVID-19']\n",
      "['msnbc', 'Morning Joe | MSNBC Morning Joe Live with Joe Scarborough', 'MTP Daily on MSNBC', 'The Beat With Ari Melber on MSNBC']\n",
      "['mtv-news', \"Travis Scott's 'The Plan' Is A Bass-Rattling Tenet Trip\", \"Greyson Chance's Victory Bell, Tomberlin's 'Wasted' Dream, And More Songs We Love\", \"BTS Detonate Their 'Dynamite' For An Infectiously Catchy Disco Dream\", \"Listen To Twice's Energetic English Take On 'More & More'\", 'DaBaby And Black Eyed Peas Will Bring The Heat Performing At The 2020 VMAs']\n",
      "['national-geographic', 'The robot revolution has arrived', 'Why we explored humanity’s complicated relationship with robots', 'This ‘rhino court’ had 100 percent poacher convictions. Why was it closed?', 'Why are so many artists drawn to Maine?', 'Coronavirus gets dangerously close to isolated ‘Arrow People’ in Amazon', 'Farming coffee continues to grow hope in Caquetá, Colombia', 'Tainted sanitizers and bootleg booze are poisoning people', 'En garde! Why France was the dueling capital of Europe', 'COVID-19 vaccines could become mandatory. Here’s how it might work.', 'The fight to save America’s historic Black cemeteries']\n",
      "['national-review', 'Zuckerberg Defends Refusal to Censor Political Ads: ‘People Can See for Themselves what Politicians Are Saying’', 'Ukraine President Zelensky Denies Negotiating ‘Quid Pro Quo,’ Criticizes Trump’s Stance on Ukraine Corruption', 'Aunt Becky and the ‘Underpaid Teachers’ Myth', 'No, You Don’t ‘Have to Go to College to Become a Welder’', 'Hey Christians, Are We a Welcoming Committee?', 'A Counterintuitive and Compelling Case for Class-Action Lawsuits', 'History Is Short', 'A Weakened Chinese State Presents Its Own Dangers', 'Kenneth Clark’s <i>Civilisation</i> After a Half Century', 'Why Al Pacino Matters']\n",
      "['nbc-news', 'House debates Postal Service changes, funds ahead of vote in rare Saturday session', 'Trump ordered to pay $44,100 in Stormy Daniels legal fees', 'Spruced-up White House Rose Garden set for Melania Trump speech', \"'White supremacy' was behind child separations — and Trump officials went along, critics say\", 'Belarus appears to block news media websites as opposition leader calls for more protests', 'College students serve as contact tracers as pandemic colors campus life', 'Senate Russia report proves Trump was wrong, and Mueller was right. Do voters care?', 'Kremlin critic Navalny on flight from Russia to Germany in coma', 'QAnon looms behind nationwide rallies and viral #SavetheChildren hashtags', 'America failed Ferraro and Palin. What can their VP campaigns teach us about sexism?']\n",
      "['new-scientist', 'Covid-19 news: UK cases level off as R number rises slightly', \"Man sees half of every face like it's melting due to rare brain lesion\", \"Cancer tumour microbiome may predict a person's chances of survival\", 'How likely are you to be infected by the coronavirus on a flight?', 'Walking catfish may use their whole body to smell when on land', 'Sea turtles carrying thermometers could improve hurricane forecasts', 'We should rewild the sky to restore the atmosphere to its former glory', 'Why dark matter should be called something else', 'What Hiroshima teaches us about coronavirus and the future of humanity', 'A weather forecast for fake news outbreaks on social media is coming']\n",
      "['newsweek', 'Minnesota and Nebraska Officials Say COVID-19 Cases Linked to Sturgis Motorcycle Rally', 'Biden Leads Over Trump in Five Battleground States as Much as 12 Points: Poll', \"Russian Opposition Leader Navalny Was 'Taken Away from Us in Secret,' Press Sec. Says\", \"ISIS Church Bombs Help China Gain Indian Ocean Ally to America's Chagrin\", \"'I Designed Michelle Obama's VOTE Necklace'\", 'Leading Engineering & Computer Science Programs 2020', 'What Brands do You Trust the Most?', 'Best Maternity Care Hospitals 2020', \"America's Best Realtors 2020\", 'Newsweek AMPLIFY Empowers Affiliate Brands Through Digital Content']\n",
      "['new-york-magazine', '13 Books You Should Read About Black Lives']\n",
      "['next-big-future', 'Scale of Future Tesla Dominance Tricks You Into Thinking It Is Hype', 'artificial intelligence', 'AGI', 'Ben Goertzel 2020 Interview on Artificial General Intelligence', 'elon musk', 'Tesla Will Overcome Denial in the Next 8 Months and Become a $1 Trillion Tech Giant', 'COVID-19 Is Prompting Enterprises to Adjust Integrated Data Strategies', 'energy', 'Pocket Sized Particle Accelerator Using THz Laser Pulses', 'coronavirus']\n",
      "['nfl-news', \"Emmitt Smith: Cowboys can't play 'chicken' with Dak\", 'Raiders, CB Prince Amukamara agree to terms', \"Meyer: Haskins needs 'great players,' 'elite culture'\", \"Colts excited about '1-1 punch' in RBs Mack, Taylor\", 'NFL to closely monitor restart of soccer in Europe', 'Falcons could bring in competition for Younghoe Koo', 'Jets showing interest in free-agent CB Logan Ryan', \"Cards' Isaiah Simmons to focus on 1 position in NFL\", \"Dolphins' Tua Tagovailoa tops jersey sales since draft\", \"Gase: What Frank Gore brings to Jets is 'hard to teach'\"]\n",
      "['nhl-news', 'Golden Knights vs. Canucks playoff preview', \"Stamkos won't play for Lightning in Game 1 against Bruins\", 'Canadiens had bad luck while losing to Flyers in Eastern First Round', \"Blues didn't overcome Binnington's struggles in first-round vs. Canucks\", 'Stanley Cup Playoffs spring into second round', '3 Keys: Stars vs. Avalanche, Game 1 of Western Second Round', 'Projected lineups, starting goalies for today', 'Stanley Cup Playoffs second-round schedule', 'Stanley Cup Playoffs second-round predictions', 'Avalanche vs. Stars playoff preview']\n",
      "['politico', 'Federal judge rules Cuccinelli appointment unlawful', 'The fighter pilot takes on the astronaut: McSally’s 2020 Arizona mission']\n",
      "['polygon', 'First Suicide Squad footage remakes Harley Quinn and unleashes new villains', 'Gotham Knights is the next Batman video game from WB Games', 'New Wonder Woman 1984 trailer at DC Fandome reveals Kristen Wiig’s Cheetah', 'Microsoft Flight Simulator’s visual glitches sprinkle in cosmic horror', 'Metal Gear Solid board game delayed again, from 2020 to 2021', 'Apple responds to Epic’s Fortnite lawsuit, says Tim Sweeney asked for “special deal”', 'Ubisoft collector’s editions on Xbox One, Series X won’t include disc copies', 'Everything leaving Destiny in Destiny 2: Beyond Light', 'Fortnite teases a mysterious Marvel crossover that seems to involve Thor', 'The Court of Owls: the villains of the new Batman game Gotham Knights']\n",
      "['recode', 'Dynasty Toys’ get-rich-quick scheme cost Amazon sellers thousands — and then got them banned', 'Apple’s Fortnite ban, explained', 'Amazon, Walmart, and Target reap the rewards of Covid restrictions', 'The strategy behind the Lincoln Project, the anti-Trump PAC', 'Trump just embraced followers of the violent QAnon conspiracy movement', 'Facebook bans some QAnon groups', 'Photos of USPS mailboxes being removed aren’t always what they seem', 'Do social media companies censor political speech? A majority of Americans think so.', 'Kamala Harris misinformation on Facebook and Twitter worries experts', 'Fortnite parent Epic dares Apple to block its game on iPhones']\n",
      "['reddit-r-all', 'r/memes - Spitting straight faxx', 'r/aww - Parrot reaction to music', 'r/dankmemes - Let’s hope he gives me cyberpunk 2077 next', 'r/BeAmazed - Champ!', 'r/HumansBeingBros - Helping a stray Dog.', 'r/ScottishPeopleTwitter - Just seen this had to share it', \"Hey Reddit! Interested in Cloud and how it's changing the game for companies adapting to the &quot;never normal&quot;? Then check out our AMA with Tristan Morel L'Horset, lead at Accenture for Cloud &amp; Infrastructure Growth here.\", 'r/gaming - When someone is copying your answers so you write wrong ones', 'What was she thinking?', 'Gorilla messing with his friend in a very humanlike way.']\n",
      "['reuters', 'S&P 500 closes nominally higher amid COVID-19 spikes, muted data', 'Trump unfit to be U.S. president, Democrat Pelosi, conservative Bolton agree', 'World stock markets slip on second wave virus fears, safe-havens rise', 'Trump pledges new list of conservative Supreme Court contenders', \"Atlanta officer says he is not 'state's witness' in Rayshard Brooks case\", \"Mexico's foreign ministry says it will monitor U.S. DACA program developments\", \"Pelosi says Trump 'ethically unfit' for presidency, will continue oversight\", \"Facebook takes down Trump ads over 'organized hate' policy\", 'Tesla wants to start building a new U.S. vehicle plant this summer', \"U.S. Supreme Court blocks Trump bid to end 'Dreamers' immigrant program\"]\n",
      "['techcrunch', 'Palantir and the great revenue mystery', 'Startups Weekly: Will future unicorns go public sooner?', 'Launched with $17 million by two former Norwest investors, Tau Ventures is ready for its closeup', 'Hey Apple, how about a MacBook SE?', 'Bletchley Park, birth-place of the computer, faces uncertain future after pandemic hits income', 'Hear from experienced edtech investors on the market’s overnight boom', \"This Week in Apps: Apple's antitrust war, TikTok ban, alt app ecosystems\", 'Five proven ways to attract and hire more diverse talent', \"Original Content podcast: On Netflix's 'Selling Sunset', everyone's a villain\", 'Five VCs discuss how no-code is going horizontal across the world’s industries']\n",
      "['techradar', \"Test d'Apple Arcade\", \"tvOS 14 : date de sortie, version bêta et nouvelles fonctionnalités de la prochaine mise à jour d'Apple TV\", \"PlayStation Store : économisez jusqu'à 70% sur des centaines de jeux PS4\", 'Apple prépare la rentrée des classes et offre une paire d’AirPods gratuits aux étudiants', 'Le Canon EOS R6 est le nouveau concurrent puissant du Nikon Z6', 'Les meilleures imprimantes multifonctions pour la maison']\n",
      "['the-american-conservative', 'Two Russian Icons', 'Rubio and the Rise of the Neoreactionaries', 'Post-Cold War Triumphalism and Kennan’s Warning', 'The Modernity of <i>Robinson Crusoe</i>, an American Art Pioneer, and Resurrecting James Dean', 'The Forgotten Treasure In These American Lands', 'When ‘Sexist’ (and Desperate) Democrats Bully Warren', 'The Poetry of Populism', 'What is the New ‘Woke’ Military Really Preparing Us For?', 'Watch Live Now: TAC’s ‘Regime Change’ Foreign Policy Conference', 'A Note to Progressives: Tell Me How This Ends']\n",
      "['the-hill', \"Inside Ed Markey's unlikely emergence as an icon to Gen Z activists | TheHill\", 'Meadows appears in Capitol to talk to Pelosi amid stalled coronavirus negotiations | TheHill', \"Pelosi hammers Trump for 'very dangerous' attack on FDA | TheHill\", \"Democrats say Postal Service delays 'far worse than previously acknowledged'\\xa0 | TheHill\", 'Outgoing Democratic chairman faces time crunch with Pompeo probe | TheHill', 'How six key swing states handle voting by mail | TheHill', 'Trump rails against FDA over vaccine testing | TheHill', 'House poised to approve $25B for Postal Service in rare Saturday vote | TheHill', 'Trump seeks health care victory on prescription drugs | TheHill', 'Biden unites Democrats — for now | TheHill']\n",
      "['the-huffington-post', 'House Debates Sending USPS $25 Billion In Rare Saturday Session', 'QAnon Cultists, Emboldened By Trump, Rally In Hollywood To Spread Dangerous Conspiracies', \"Protesters Gather At USPS Locations Nationwide To 'Save The Post Office'\", '2 Tropical Storms A Potential Double Threat To US Gulf Coast', 'More Than 70 Republican Ex-National Security Officials Endorse Joe Biden', \"Joe Biden: I'll 'Listen To The Scientists' On Coronavirus And Shut Down Again If Needed\", \"Trump's $300 Unemployment Benefit: A State-By-State Guide To When It Starts\", 'Europe Took A Holiday From COVID-19. Now It’s Paying The Price.', 'Top FDA Official Says He Would Resign If Agency Rubber-Stamps Unproven COVID-19 Vaccine', 'Coronavirus Live Updates: Read The Latest About The COVID-19 Outbreak']\n",
      "['the-next-web', 'Fatty acids found in fish could help treat asthma patients', 'Why AI and human perception are too complex to be compared', 'This Adobe web design training can help creators unleash sites and apps like nothing else', 'How COVID-19 is accelerating the shift away from fossil fuels', 'Red giant star Betelgeuse dimmed because it ‘sneezed,’ astronomers explain', 'Grab your popcorn: Apple fires back at Epic in new court filing', 'How to find alternate language options on HBO Max', 'How Intel helped give the ‘world’s first’ cyborg a voice', 'Apple worth $1 trillion more since COVID-19 crashed the NASDAQ 100', 'How will GPT-3 change our lives?']\n",
      "['the-verge', 'If you think Fall Guys would be a perfect mobile game, China has news for you', 'TikTok confirms it will sue the Trump administration', 'James Gunn’s Suicide Squad sequel gets first look at FanDome', 'Here’s your first look at Gotham Knights, the new game from WB Games Montreal', 'Watch the new Wonder Woman 1984 trailer from FanDome', 'COVID-19 just schooled a bunch of universities', 'WordPress claims Apple cut off updates to its completely free app because it wants 30 percent', 'Read the Epic and Apple emails that led to\\xa0Fortnite’s App Store ban', 'Apple claims Epic asked for a ‘special deal’ for Fortnite payments', 'Court of Owls: villains of new Batman game Gotham Knights, explained']\n",
      "['the-wall-street-journal', 'California Wildfires Grow to Second and Third Largest in State History', 'Putin Critic Alexei Navalny Evacuated From Russia to Germany', 'This Market Is a Tech Market. If Bond Yields Rise, Watch Out.', 'Even With a Strong Crop This Year, U.S. Farmers Are Suffering', 'House Set to Vote on Bill Barring Postal Service Cuts', 'As South Africa Lifts Ban on Wine Sales, Many Vintners Fear It’s Too Late', 'Covid-19 Is Dividing the American Worker', 'An AI Breaks the Writing Barrier', 'David Pecker, CEO of National Enquirer’s Parent, Steps Down Amid Merger With Logistics Firm', 'Covid-19 Salary Cuts Are Coming to an End at Some Companies']\n",
      "['the-washington-post', 'Election 2020 live updates: Trump, Pence to visit GOP convention site, criticize Biden’s willingness to ‘shut down’ country', 'Election 2020 live updates: Trump, Pence to visit GOP convention site, criticize Biden’s willingness to ‘shut down’ country', 'Election 2020 live updates: Trump, Pence to visit GOP convention site, criticize Biden’s willingness to ‘shut down’ country', 'Election 2020 live updates: Trump, Pence to visit GOP convention site, criticize Biden’s willingness to ‘shut down’ country', 'Election 2020 live updates: Trump, Pence to visit GOP convention site, criticize Biden’s willingness to ‘shut down’ country', 'Election 2020 live updates: Trump, Pence to visit GOP convention site, criticize Biden’s willingness to ‘shut down’ country', 'Election 2020 live updates: Trump, Pence to visit GOP convention site, criticize Biden’s willingness to ‘shut down’ country', 'Election 2020 live updates: Trump, Pence to visit GOP convention site, criticize Biden’s willingness to ‘shut down’ country', 'Election 2020 live updates: Trump, Pence to visit GOP convention site, criticize Biden’s willingness to ‘shut down’ country', 'Election 2020 live updates: Trump, Pence to visit GOP convention site, criticize Biden’s willingness to ‘shut down’ country']\n",
      "['the-washington-times', \"House Oversight Chair Maloney: Mail delays were 'far worse' than reported\", \"Nancy Pelosi says Trump is trafficking in 'voter suppression'\", \"Meadows calls for 'skinny' COVID relief package, Pelosi calls request 'deficient'\", \"Joe Biden says he'd shut down U.S. again if scientists recommend it\", 'States sue Postal Service ahead of election as mail-in ballot requests surge', \"Bernie Sanders wants 'serious debate' with Biden after teaming up on the election\", \"Mike Pompeo: U.S. to use 'every tool' to keep China, Russia from beefing up Iran's weapons arsenal\", 'FBI warns of new cyberattacks and counterintelligence threats facing D.C. think tanks', 'How To Entirely Empty Your Bowels Every Morning - Top Surgeon Explains How', 'Heart Surgeon: Throw Out Your Olive Oil Now (Here’s Why)']\n",
      "['time', 'Finding Hope: The TIME 100 Community on Navigating Our New Reality', \"Why You're Regressing to Your Teenage Self During the COVID-19 Outbreak\", 'Renters Are Being Forced From Their Homes Despite Eviction Moratoriums Meant to Protect Them', 'Trump’s Signature Will Appear on Coronavirus Stimulus Checks', 'Watch a New York City Doctor Describe How Medical Professionals Fight Against COVID-19', \"'Otherwise I'd Be Alone.' Foster Pets Offer Much-Needed Companionship in an Age of Isolation\", 'Ditching Zoom? Here Are 10 Video Chat Alternatives You Can Use Instead']\n",
      "['usa-today', 'House returns from recess to vote on additional $25 billion for United States Postal Service', 'California wildfires updates: Redwoods burn in Big Basin state park, more lightning possible this weekend', \"'Hurry, he's dying': A hospital chaplain’s journal chronicles a pandemic's private wounds\", 'Supreme Court, federal judiciary rising as key issue in presidential, Senate elections', \"Could hurricanes collide? Here's what may happen if\\xa0Laura and Marco meet up in the Gulf\", \"'Not an easy task': GOP scrambles to finalize plans for convention amid COVID-19, venue changes, Trump input\", 'Gannett news president: Diversity and inclusion are choices, not just words. Today we reaffirm our mission.', 'Where you can vote by mail, absentee ballot in the 2020 election', 'Women of the Century', 'INSIDE The Amway Coaches Poll - Former Head Coach Mark Richt joins the show plus Ryan Aber of The Oklahoman - INSIDE The Amway Coaches Poll - Omny.fm']\n",
      "['vice-news', \"A GOP Lawmaker Tested Positive for Coronavirus and Didn't Bother to Tell His Democratic Colleagues\", 'This GOP Congressman Officiated a Gay Wedding, and It Could Cost Him an Election', \"‘It's The End of Hong Kong’: The National Security Law China Just Approved Is The Protest Movement's Worst Nightmare\", 'Far-Right Social Network Gab Has a Verified Account Waiting For Trump With 27,000 Followers', 'Minneapolis is Burning: Protesters Loot and Set Buildings On Fire to Protest Police Killing of George Floyd', \"New Videos Appear to Undermine Police Account That George Floyd 'Resisted' Officers\", \"Coronavirus Took Away a Huge Milestone for First-Generation Graduates: 'I Can't Stop Crying'\", \"Trump's FDA Won't Let Women Get Abortion Pills Remotely In a Pandemic. So The ACLU Is Suing.\", 'Tara Reade Is Now Being Investigated For Allegedly Lying on the Witness Stand', \"The Cops Involved in George Floyd's Fatal Arrest Had Previous Violent Incidents on the Force\"]\n",
      "['wired', 'Facebook Finally Cracks Down on QAnon', 'Solar Panels Are Starting to Die, Leaving Behind Toxic Trash', 'The 6 Best TVs for Every Budget (2020): TCL, Samsung, LG', 'A Standing Desk Changed My Life—It Can Save Yours Too', 'The 14 Best Weekend Deals: Earbuds, Robot Vacuums, and More', \"Facebook's ‘Kill Switch’ Solves the Wrong Problem\", \"The Uncanny Escapism of 'Flight Simulator 2020'\", 'California Wildfires Can Create Their Own Terrifying Weather', '9 Best Cheap Laptops for 2020: Our Picks for $700 or Less', 'A Rocket Scientist’s Love Algorithm Adds Up During Covid-19']\n"
     ]
    }
   ],
   "source": [
    "headlines = []\n",
    "for id in df['id']:\n",
    "  headlines.append(eachNewsHeadlines(id))"
   ]
  },
  {
   "cell_type": "markdown",
   "metadata": {
    "colab_type": "text",
    "id": "NZHSVRnNKfKZ"
   },
   "source": [
    "## Method: parseWords\n",
    "### this will parse the headlines to count how many times each vocabs appears in headlines"
   ]
  },
  {
   "cell_type": "code",
   "execution_count": 37,
   "metadata": {
    "colab": {},
    "colab_type": "code",
    "id": "tAWD02dfH5AF"
   },
   "outputs": [],
   "source": [
    "import re"
   ]
  },
  {
   "cell_type": "code",
   "execution_count": 51,
   "metadata": {
    "colab": {},
    "colab_type": "code",
    "id": "v9uzdNApGPua"
   },
   "outputs": [],
   "source": [
    "def parseWords(headlines, dic):\n",
    "  for headline in headlines:\n",
    "    for line in headline[1:]:\n",
    "      vocabs = re.split('\\W+', line)\n",
    "      for vocab in vocabs:\n",
    "        if vocab in dic:\n",
    "          dic[vocab] += 1\n",
    "        else:\n",
    "          dic[vocab] = 1"
   ]
  },
  {
   "cell_type": "code",
   "execution_count": 4,
   "metadata": {
    "colab": {
     "base_uri": "https://localhost:8080/",
     "height": 54
    },
    "colab_type": "code",
    "id": "8TIc5ixoIw-h",
    "outputId": "d3f79a48-d708-4832-e552-9b85842d09ea"
   },
   "outputs": [
    {
     "name": "stdout",
     "output_type": "stream",
     "text": [
      "{'Protesters': 3, 'arrested': 1, 'in': 83, 'Charlotte': 1, 'as': 19, 'GOP': 16, 'delegates': 1, 'arrive': 2, 'Trump': 54, 'ordered': 2, 'to': 122, 'pay': 3, '44': 2, '100': 7, 'Stormy': 2, 'Daniels': 2, 'legal': 2, 'fees': 2, 'US': 8, 'WeChat': 1, 'users': 2, 'sue': 3, 'over': 9, 'order': 1, 'banning': 1, 'messaging': 1, 'app': 3, 'House': 15, 'set': 3, 'vote': 9, 'on': 47, 'USPS': 8, 'bill': 3, 'amid': 5, 'mail': 5, 'voting': 3, 'controversy': 1, 'Officials': 3, 'Police': 5, 'shoot': 1, 'kill': 1, 'man': 1, 'outside': 1, 'store': 1, 'Louisiana': 1, 'Statue': 1, 'of': 58, 'lauded': 1, 'rocker': 1, 'Chris': 2, 'Cornell': 1, 'vandalized': 1, 'Seattle': 1, 'Family': 1, 'says': 11, 'lost': 1, 'veterans': 1, 'remains': 1, 'Tropical': 2, 'Storm': 1, 'Laura': 2, 'Marco': 2, 'simultaneously': 1, 'heading': 1, 'toward': 1, 'Gulf': 6, 'Mexico': 2, 'Smoke': 2, 'fills': 1, 'air': 1, 'Portland': 5, 'police': 1, 'clear': 1, 'riot': 1, 'at': 13, 'precinct': 1, 'Steve': 2, 'Bannon': 1, 'calls': 5, 'his': 5, 'arrest': 2, 'a': 54, 'political': 2, 'hit': 1, 'job': 1, 'effort': 1, 'was': 10, 'support': 1, 'West': 1, 'African': 1, 'mediators': 1, 'Mali': 1, 'push': 1, 'for': 47, 'coup': 1, 'reversal': 1, 'Alexei': 2, 'Navalny': 5, 's': 108, 'health': 3, 'condition': 1, 'very': 4, 'worrying': 1, '': 76, 'Global': 1, 'coronavirus': 10, 'death': 2, 'toll': 1, 'hits': 3, '800': 1, '000': 4, 'Live': 5, 'news': 6, 'New': 8, 'Wonder': 5, 'Woman': 5, '1984': 4, 'trailer': 4, 'offers': 1, 'first': 9, 'look': 4, 'Kristen': 3, 'Wiig': 3, 'Cheetah': 3, 'Hint': 1, 'COVID': 31, '19': 33, 'immunity': 2, '3': 6, 'sailors': 1, 'with': 19, 'antibodies': 1, 'spared': 1, 'outbreak': 2, 'sea': 1, 'This': 12, 'plane': 1, 'flies': 1, 'itself': 1, 'we': 6, 'went': 2, 'ride': 2, 'The': 59, 'race': 2, 'collect': 1, 'the': 82, 'pandemic': 8, 'history': 3, 'it': 14, 'unfolds': 1, 'Former': 2, 'Uber': 3, 'security': 1, 'chief': 1, 'faces': 5, 'criminal': 1, 'charges': 1, 'hiding': 1, '2016': 1, 'breach': 1, 'July': 3, 'hot': 1, 'one': 2, 'but': 4, 'here': 2, 'what': 5, 'NOAA': 1, 'sees': 2, 'ahead': 5, 'How': 20, 'do': 4, 'you': 8, 'fellow': 1, 'gamers': 1, 'Burger': 1, 'King': 1, 'exploits': 1, 'Twitch': 1, 'cheap': 1, 'ads': 3, 'Peer': 1, 'inside': 1, 'mummified': 1, 'cat': 2, 'from': 21, 'ancient': 1, 'Egypt': 1, 'courtesy': 1, 'high': 2, 'res': 1, '3D': 1, 'X': 2, 'rays': 1, 'Ancient': 1, 'lake': 1, 'sites': 2, 'suggest': 1, 'lots': 1, 'precipitation': 1, 'Mars': 1, 'Untested': 1, 'vaccine': 4, 'Sputnik': 1, 'V': 1, 'begins': 2, '40': 1, 'person': 3, 'trial': 1, 'next': 4, 'week': 1, 'London': 1, 'famous': 2, 'Tower': 1, 'Bridge': 1, 'gets': 3, 'stuck': 1, 'an': 11, 'open': 1, 'position': 2, '2': 7, 'bodies': 1, 'found': 4, 'missing': 1, 'after': 12, 'explosion': 1, 'Texas': 2, 'port': 1, 'Ketamine': 1, 'that': 8, 'injected': 1, 'during': 1, 'arrests': 1, 'draws': 1, 'new': 15, 'scrutiny': 1, 'AP': 2, 'EXCLUSIVE': 1, 'back': 4, 'school': 2, 'laptop': 1, 'shortage': 1, 'does': 3, 'spread': 2, 'concert': 1, 'Germans': 1, 'test': 3, 'FACT': 1, 'CHECK': 1, 'distortion': 1, 'Dems': 1, 'and': 53, 'pledge': 2, 'As': 2, 'more': 7, 'colleges': 2, 'stay': 1, 'online': 1, 'students': 3, 'demand': 2, 'tuition': 2, 'cuts': 2, 'bully': 1, 'pulpit': 1, 'pushes': 1, 'Washington': 2, 'virus': 2, 'resists': 1, 'Miami': 1, 'ICU': 1, 'nurse': 1, 'I': 11, 'have': 5, 'never': 3, 'my': 2, 'life': 2, 'seen': 2, 'so': 4, 'many': 2, 'deaths': 1, 'Democrats': 8, 'see': 1, 'racism': 1, 'mispronunciations': 1, 'Kamala': 4, 'Axios': 1, 'Pro': 2, 'Rata': 1, 'Silicon': 2, 'Valley': 2, 'x27': 1, 'Veep': 1, 'AirIPO': 1, 'Brooks': 2, 'Brothers': 1, 'lives': 2, 'busiest': 1, 'owner': 1, 'sports': 1, 'congressman': 1, 'condemns': 1, 'QAnon': 7, 'conspiracy': 2, 'theorist': 1, 'wins': 1, 'Georgia': 1, 'runoff': 1, 'Oversight': 2, 'chair': 1, 'introduces': 1, 'preserve': 1, 'services': 1, 'U': 16, 'S': 15, 'threatens': 1, 'veto': 1, 'UN': 1, 'peacekeeping': 1, 'Lebanon': 2, 'Hezbollah': 1, 'concerns': 1, 'Poll': 4, 'America': 6, 'confidence': 1, 'public': 3, 'system': 1, 'jumps': 2, 'Watch': 9, 'Gen': 2, 'Z': 2, 'future': 6, 'politics': 1, 'employability': 1, 'Milwaukee': 1, 'Industry': 1, 'digital': 1, 'update': 1, 'Coronavirus': 11, 'dashboard': 1, 'NBA': 5, 'Anthony': 1, 'Edwards': 1, 'B': 1, 'R': 3, 'Exclusive': 1, '2020': 24, 'MLB': 4, 'Prospect': 2, 'Power': 2, 'Rankings': 1, 'Top': 3, '30': 2, 'Catchers': 1, 'Addressing': 1, 'Biggest': 3, 'Questions': 1, 'About': 7, 'Draft': 2, 'Obi': 1, 'Toppin': 1, 'Trade': 1, 'Chips': 1, 'Available': 1, 'Sellers': 1, 'Ahead': 1, 'Deadline': 1, 'Long': 1, 'Shots': 1, 'Who': 5, 'Could': 5, 'Sneak': 1, 'into': 5, 'Lottery': 1, 'Players': 1, 'Drop': 1, 'Courtnite': 1, 'Student': 1, 'Travel': 1, 'Company': 1, 'STA': 1, 'Stops': 1, 'Trading': 1, 'K': 2, 'Fills': 1, 'Air': 1, 'Clear': 1, 'Riot': 2, 'Precinct': 2, 'Stressed': 1, 'Stocks': 2, 'Investors': 2, 'Are': 10, 'Betting': 1, 'Big': 5, 'Europe': 4, 'Sarah': 1, 'Halzack': 1, 'Clothing': 1, 'Stores': 1, 'Fight': 2, 'Back': 2, 'Podcast': 1, 'Boeing': 1, 'Fed': 1, 'Backstop': 1, 'Leaves': 1, 'Workers': 1, 'Lurch': 1, 'Flagging': 1, 'Brexit': 1, 'Negotiations': 1, 'Revive': 1}\n"
     ]
    }
   ],
   "source": [
    "parseVocab = {'Protesters': 3, 'arrested': 1, 'in': 83, 'Charlotte': 1, 'as': 19, 'GOP': 16, 'delegates': 1, 'arrive': 2, 'Trump': 54, 'ordered': 2, 'to': 122, 'pay': 3, '44': 2, '100': 7, 'Stormy': 2, 'Daniels': 2, 'legal': 2, 'fees': 2, 'US': 8, 'WeChat': 1, 'users': 2, 'sue': 3, 'over': 9, 'order': 1, 'banning': 1, 'messaging': 1, 'app': 3, 'House': 15, 'set': 3, 'vote': 9, 'on': 47, 'USPS': 8, 'bill': 3, 'amid': 5, 'mail': 5, 'voting': 3, 'controversy': 1, 'Officials': 3, 'Police': 5, 'shoot': 1, 'kill': 1, 'man': 1, 'outside': 1, 'store': 1, 'Louisiana': 1, 'Statue': 1, 'of': 58, 'lauded': 1, 'rocker': 1, 'Chris': 2, 'Cornell': 1, 'vandalized': 1, 'Seattle': 1, 'Family': 1, 'says': 11, 'lost': 1, 'veterans': 1, 'remains': 1, 'Tropical': 2, 'Storm': 1, 'Laura': 2, 'Marco': 2, 'simultaneously': 1, 'heading': 1, 'toward': 1, 'Gulf': 6, 'Mexico': 2, 'Smoke': 2, 'fills': 1, 'air': 1, 'Portland': 5, 'police': 1, 'clear': 1, 'riot': 1, 'at': 13, 'precinct': 1, 'Steve': 2, 'Bannon': 1, 'calls': 5, 'his': 5, 'arrest': 2, 'a': 54, 'political': 2, 'hit': 1, 'job': 1, 'effort': 1, 'was': 10, 'support': 1, 'West': 1, 'African': 1, 'mediators': 1, 'Mali': 1, 'push': 1, 'for': 47, 'coup': 1, 'reversal': 1, 'Alexei': 2, 'Navalny': 5, 's': 108, 'health': 3, 'condition': 1, 'very': 4, 'worrying': 1, '': 76, 'Global': 1, 'coronavirus': 10, 'death': 2, 'toll': 1, 'hits': 3, '800': 1, '000': 4, 'Live': 5, 'news': 6, 'New': 8, 'Wonder': 5, 'Woman': 5, '1984': 4, 'trailer': 4, 'offers': 1, 'first': 9, 'look': 4, 'Kristen': 3, 'Wiig': 3, 'Cheetah': 3, 'Hint': 1, 'COVID': 31, '19': 33, 'immunity': 2, '3': 6, 'sailors': 1, 'with': 19, 'antibodies': 1, 'spared': 1, 'outbreak': 2, 'sea': 1, 'This': 12, 'plane': 1, 'flies': 1, 'itself': 1, 'we': 6, 'went': 2, 'ride': 2, 'The': 59, 'race': 2, 'collect': 1, 'the': 82, 'pandemic': 8, 'history': 3, 'it': 14, 'unfolds': 1, 'Former': 2, 'Uber': 3, 'security': 1, 'chief': 1, 'faces': 5, 'criminal': 1, 'charges': 1, 'hiding': 1, '2016': 1, 'breach': 1, 'July': 3, 'hot': 1, 'one': 2, 'but': 4, 'here': 2, 'what': 5, 'NOAA': 1, 'sees': 2, 'ahead': 5, 'How': 20, 'do': 4, 'you': 8, 'fellow': 1, 'gamers': 1, 'Burger': 1, 'King': 1, 'exploits': 1, 'Twitch': 1, 'cheap': 1, 'ads': 3, 'Peer': 1, 'inside': 1, 'mummified': 1, 'cat': 2, 'from': 21, 'ancient': 1, 'Egypt': 1, 'courtesy': 1, 'high': 2, 'res': 1, '3D': 1, 'X': 2, 'rays': 1, 'Ancient': 1, 'lake': 1, 'sites': 2, 'suggest': 1, 'lots': 1, 'precipitation': 1, 'Mars': 1, 'Untested': 1, 'vaccine': 4, 'Sputnik': 1, 'V': 1, 'begins': 2, '40': 1, 'person': 3, 'trial': 1, 'next': 4, 'week': 1, 'London': 1, 'famous': 2, 'Tower': 1, 'Bridge': 1, 'gets': 3, 'stuck': 1, 'an': 11, 'open': 1, 'position': 2, '2': 7, 'bodies': 1, 'found': 4, 'missing': 1, 'after': 12, 'explosion': 1, 'Texas': 2, 'port': 1, 'Ketamine': 1, 'that': 8, 'injected': 1, 'during': 1, 'arrests': 1, 'draws': 1, 'new': 15, 'scrutiny': 1, 'AP': 2, 'EXCLUSIVE': 1, 'back': 4, 'school': 2, 'laptop': 1, 'shortage': 1, 'does': 3, 'spread': 2, 'concert': 1, 'Germans': 1, 'test': 3, 'FACT': 1, 'CHECK': 1, 'distortion': 1, 'Dems': 1, 'and': 53, 'pledge': 2, 'As': 2, 'more': 7, 'colleges': 2, 'stay': 1, 'online': 1, 'students': 3, 'demand': 2, 'tuition': 2, 'cuts': 2, 'bully': 1, 'pulpit': 1, 'pushes': 1, 'Washington': 2, 'virus': 2, 'resists': 1, 'Miami': 1, 'ICU': 1, 'nurse': 1, 'I': 11, 'have': 5, 'never': 3, 'my': 2, 'life': 2, 'seen': 2, 'so': 4, 'many': 2, 'deaths': 1, 'Democrats': 8, 'see': 1, 'racism': 1, 'mispronunciations': 1, 'Kamala': 4, 'Axios': 1, 'Pro': 2, 'Rata': 1, 'Silicon': 2, 'Valley': 2, 'x27': 1, 'Veep': 1, 'AirIPO': 1, 'Brooks': 2, 'Brothers': 1, 'lives': 2, 'busiest': 1, 'owner': 1, 'sports': 1, 'congressman': 1, 'condemns': 1, 'QAnon': 7, 'conspiracy': 2, 'theorist': 1, 'wins': 1, 'Georgia': 1, 'runoff': 1, 'Oversight': 2, 'chair': 1, 'introduces': 1, 'preserve': 1, 'services': 1, 'U': 16, 'S': 15, 'threatens': 1, 'veto': 1, 'UN': 1, 'peacekeeping': 1, 'Lebanon': 2, 'Hezbollah': 1, 'concerns': 1, 'Poll': 4, 'America': 6, 'confidence': 1, 'public': 3, 'system': 1, 'jumps': 2, 'Watch': 9, 'Gen': 2, 'Z': 2, 'future': 6, 'politics': 1, 'employability': 1, 'Milwaukee': 1, 'Industry': 1, 'digital': 1, 'update': 1, 'Coronavirus': 11, 'dashboard': 1, 'NBA': 5, 'Anthony': 1, 'Edwards': 1, 'B': 1, 'R': 3, 'Exclusive': 1, '2020': 24, 'MLB': 4, 'Prospect': 2, 'Power': 2, 'Rankings': 1, 'Top': 3, '30': 2, 'Catchers': 1, 'Addressing': 1, 'Biggest': 3, 'Questions': 1, 'About': 7, 'Draft': 2, 'Obi': 1, 'Toppin': 1, 'Trade': 1, 'Chips': 1, 'Available': 1, 'Sellers': 1, 'Ahead': 1, 'Deadline': 1, 'Long': 1, 'Shots': 1, 'Who': 5, 'Could': 5, 'Sneak': 1, 'into': 5, 'Lottery': 1, 'Players': 1, 'Drop': 1, 'Courtnite': 1, 'Student': 1, 'Travel': 1, 'Company': 1, 'STA': 1, 'Stops': 1, 'Trading': 1, 'K': 2, 'Fills': 1, 'Air': 1, 'Clear': 1, 'Riot': 2, 'Precinct': 2, 'Stressed': 1, 'Stocks': 2, 'Investors': 2, 'Are': 10, 'Betting': 1, 'Big': 5, 'Europe': 4, 'Sarah': 1, 'Halzack': 1, 'Clothing': 1, 'Stores': 1, 'Fight': 2, 'Back': 2, 'Podcast': 1, 'Boeing': 1, 'Fed': 1, 'Backstop': 1, 'Leaves': 1, 'Workers': 1, 'Lurch': 1, 'Flagging': 1, 'Brexit': 1, 'Negotiations': 1, 'Revive': 1}\n",
    "#parseWords(headlines, parseVocab)\n",
    "print(parseVocab)"
   ]
  },
  {
   "cell_type": "code",
   "execution_count": 9,
   "metadata": {},
   "outputs": [
    {
     "data": {
      "image/png": "[encoded data removed]",
      "text/plain": [
       "<Figure size 432x288 with 1 Axes>"
      ]
     },
     "metadata": {
      "needs_background": "light"
     },
     "output_type": "display_data"
    }
   ],
   "source": [
    "import matplotlib.pyplot as plt\n",
    "top10Words = sorted(parseVocab, key = lambda x: parseVocab[x], reverse = True)[:10]\n",
    "top10Occur = [parseVocab[x] for x in top10Words]\n",
    "plt.bar(top10Words, top10Occur)\n",
    "plt.title('Top 10 Trends in News')\n",
    "plt.ylabel('# of Occurances in Headlines')\n",
    "plt.xlabel('Trends')\n",
    "plt.show()"
   ]
  },
  {
   "cell_type": "code",
   "execution_count": null,
   "metadata": {},
   "outputs": [],
   "source": []
  }
 ],
 "metadata": {
  "colab": {
   "authorship_tag": "ABX9TyNYwWnUiiuipvfIUYe426sF",
   "include_colab_link": true,
   "name": "news_analyzer",
   "provenance": []
  },
  "kernelspec": {
   "display_name": "Python 3",
   "language": "python",
   "name": "python3"
  },
  "language_info": {
   "codemirror_mode": {
    "name": "ipython",
    "version": 3
   },
   "file_extension": ".py",
   "mimetype": "text/x-python",
   "name": "python",
   "nbconvert_exporter": "python",
   "pygments_lexer": "ipython3",
   "version": "3.7.1"
  }
 },
 "nbformat": 4,
 "nbformat_minor": 1
}
