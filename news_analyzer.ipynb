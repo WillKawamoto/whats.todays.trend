{
  "nbformat": 4,
  "nbformat_minor": 0,
  "metadata": {
    "colab": {
      "name": "news_analyzer",
      "provenance": [],
      "authorship_tag": "ABX9TyNYwWnUiiuipvfIUYe426sF",
      "include_colab_link": true
    },
    "kernelspec": {
      "name": "python3",
      "display_name": "Python 3"
    }
  },
  "cells": [
    {
      "cell_type": "markdown",
      "metadata": {
        "id": "view-in-github",
        "colab_type": "text"
      },
      "source": [
        "<a href=\"https://colab.research.google.com/github/ykim879/whats.todays.trend/blob/master/news_analyzer.ipynb\" target=\"_parent\"><img src=\"https://colab.research.google.com/assets/colab-badge.svg\" alt=\"Open In Colab\"/></a>"
      ]
    },
    {
      "cell_type": "markdown",
      "metadata": {
        "id": "VTA9UXv7skDf",
        "colab_type": "text"
      },
      "source": [
        "# News Analyzer"
      ]
    },
    {
      "cell_type": "code",
      "metadata": {
        "id": "FmMh0GmerjOr",
        "colab_type": "code",
        "colab": {}
      },
      "source": [
        "import requests\n",
        "import pandas as pd"
      ],
      "execution_count": 5,
      "outputs": []
    },
    {
      "cell_type": "code",
      "metadata": {
        "id": "b0Dy0sl1sx09",
        "colab_type": "code",
        "colab": {}
      },
      "source": [
        "response = requests.get('https://newsapi.org/v2/sources?'\n",
        "\t\t\t   'language=en&country=us&'\n",
        "\t\t\t   'apiKey=55b9f473b6e642ac862d315a124c6619')\n",
        "sources = response.json()['sources']\n",
        "df = pd.DataFrame();\n",
        "pd.set_option('display.max_columns', 7)\n",
        "for source in sources:\n",
        "  row = pd.Series(source)\n",
        "  df = df.append(row, ignore_index = True)\n",
        "df.set_index(\"name\", inplace = True)"
      ],
      "execution_count": 25,
      "outputs": []
    },
    {
      "cell_type": "code",
      "metadata": {
        "id": "ef2LuuHltdtu",
        "colab_type": "code",
        "colab": {
          "base_uri": "https://localhost:8080/",
          "height": 1000
        },
        "outputId": "f79e60fb-a325-4210-de35-32d9712659cb"
      },
      "source": [
        "print(df)"
      ],
      "execution_count": 22,
      "outputs": [
        {
          "output_type": "stream",
          "text": [
            "                                category country  \\\n",
            "id                                                 \n",
            "abc-news                         general      us   \n",
            "al-jazeera-english               general      us   \n",
            "ars-technica                  technology      us   \n",
            "associated-press                 general      us   \n",
            "axios                            general      us   \n",
            "bleacher-report                   sports      us   \n",
            "bloomberg                       business      us   \n",
            "breitbart-news                   general      us   \n",
            "business-insider                business      us   \n",
            "buzzfeed                   entertainment      us   \n",
            "cbs-news                         general      us   \n",
            "cnn                              general      us   \n",
            "crypto-coins-news             technology      us   \n",
            "engadget                      technology      us   \n",
            "entertainment-weekly       entertainment      us   \n",
            "espn                              sports      us   \n",
            "espn-cric-info                    sports      us   \n",
            "fortune                         business      us   \n",
            "fox-news                         general      us   \n",
            "fox-sports                        sports      us   \n",
            "google-news                      general      us   \n",
            "hacker-news                   technology      us   \n",
            "ign                        entertainment      us   \n",
            "mashable                   entertainment      us   \n",
            "medical-news-today                health      us   \n",
            "msnbc                            general      us   \n",
            "mtv-news                   entertainment      us   \n",
            "national-geographic              science      us   \n",
            "national-review                  general      us   \n",
            "nbc-news                         general      us   \n",
            "new-scientist                    science      us   \n",
            "newsweek                         general      us   \n",
            "new-york-magazine                general      us   \n",
            "next-big-future                  science      us   \n",
            "nfl-news                          sports      us   \n",
            "nhl-news                          sports      us   \n",
            "politico                         general      us   \n",
            "polygon                    entertainment      us   \n",
            "recode                        technology      us   \n",
            "reddit-r-all                     general      us   \n",
            "reuters                          general      us   \n",
            "techcrunch                    technology      us   \n",
            "techradar                     technology      us   \n",
            "the-american-conservative        general      us   \n",
            "the-hill                         general      us   \n",
            "the-huffington-post              general      us   \n",
            "the-next-web                  technology      us   \n",
            "the-verge                     technology      us   \n",
            "the-wall-street-journal         business      us   \n",
            "the-washington-post              general      us   \n",
            "the-washington-times             general      us   \n",
            "time                             general      us   \n",
            "usa-today                        general      us   \n",
            "vice-news                        general      us   \n",
            "wired                         technology      us   \n",
            "\n",
            "                                                                 description  \\\n",
            "id                                                                             \n",
            "abc-news                   Your trusted source for breaking news, analysi...   \n",
            "al-jazeera-english         News, analysis from the Middle East and worldw...   \n",
            "ars-technica               The PC enthusiast's resource. Power users and ...   \n",
            "associated-press           The AP delivers in-depth coverage on the inter...   \n",
            "axios                      Axios are a new media company delivering vital...   \n",
            "bleacher-report            Sports journalists and bloggers covering NFL, ...   \n",
            "bloomberg                  Bloomberg delivers business and markets news, ...   \n",
            "breitbart-news             Syndicated news and opinion website providing ...   \n",
            "business-insider           Business Insider is a fast-growing business si...   \n",
            "buzzfeed                   BuzzFeed is a cross-platform, global network f...   \n",
            "cbs-news                   CBS News: dedicated to providing the best in j...   \n",
            "cnn                        View the latest news and breaking news today f...   \n",
            "crypto-coins-news          Providing breaking cryptocurrency news - focus...   \n",
            "engadget                   Engadget is a web magazine with obsessive dail...   \n",
            "entertainment-weekly       Online version of the print magazine includes ...   \n",
            "espn                       ESPN has up-to-the-minute sports news coverage...   \n",
            "espn-cric-info             ESPN Cricinfo provides the most comprehensive ...   \n",
            "fortune                         Fortune 500 Daily and Breaking Business News   \n",
            "fox-news                   Breaking News, Latest News and Current News fr...   \n",
            "fox-sports                 Find live scores, player and team news, videos...   \n",
            "google-news                Comprehensive, up-to-date news coverage, aggre...   \n",
            "hacker-news                Hacker News is a social news website focusing ...   \n",
            "ign                        IGN is your site for Xbox One, PS4, PC, Wii-U,...   \n",
            "mashable                   Mashable is a global, multi-platform media and...   \n",
            "medical-news-today         Medical news and health news headlines posted ...   \n",
            "msnbc                      Breaking news and in-depth analysis of the hea...   \n",
            "mtv-news                   The ultimate news source for music, celebrity,...   \n",
            "national-geographic        Reporting our world daily: original nature and...   \n",
            "national-review            National Review: Conservative News, Opinion, P...   \n",
            "nbc-news                   Breaking news, videos, and the latest top stor...   \n",
            "new-scientist              Breaking science and technology news from arou...   \n",
            "newsweek                   Newsweek provides in-depth analysis, news and ...   \n",
            "new-york-magazine          NYMAG and New York magazine cover the new, the...   \n",
            "next-big-future            Coverage of science and technology that have t...   \n",
            "nfl-news                   The official source for NFL news, schedules, s...   \n",
            "nhl-news                   The most up-to-date breaking hockey news from ...   \n",
            "politico                   Political news about Congress, the White House...   \n",
            "polygon                    Polygon is a gaming website in partnership wit...   \n",
            "recode                     Get the latest independent tech news, reviews ...   \n",
            "reddit-r-all               Reddit is an entertainment, social news networ...   \n",
            "reuters                    Reuters.com brings you the latest news from ar...   \n",
            "techcrunch                 TechCrunch is a leading technology media prope...   \n",
            "techradar                  The latest technology news and reviews, coveri...   \n",
            "the-american-conservative  Realism and reform. A new voice for a new gene...   \n",
            "the-hill                   The Hill is a top US political website, read b...   \n",
            "the-huffington-post        The Huffington Post is a politically liberal A...   \n",
            "the-next-web               The Next Web is one of the world’s largest onl...   \n",
            "the-verge                  The Verge covers the intersection of technolog...   \n",
            "the-wall-street-journal    WSJ online coverage of breaking news and curre...   \n",
            "the-washington-post        Breaking news and analysis on politics, busine...   \n",
            "the-washington-times       The Washington Times delivers breaking news an...   \n",
            "time                       Breaking news and analysis from TIME.com. Poli...   \n",
            "usa-today                  Get the latest national, international, and po...   \n",
            "vice-news                  Vice News is Vice Media, Inc.'s current affair...   \n",
            "wired                      Wired is a monthly American magazine, publishe...   \n",
            "\n",
            "                          language                       name  \\\n",
            "id                                                              \n",
            "abc-news                        en                   ABC News   \n",
            "al-jazeera-english              en         Al Jazeera English   \n",
            "ars-technica                    en               Ars Technica   \n",
            "associated-press                en           Associated Press   \n",
            "axios                           en                      Axios   \n",
            "bleacher-report                 en            Bleacher Report   \n",
            "bloomberg                       en                  Bloomberg   \n",
            "breitbart-news                  en             Breitbart News   \n",
            "business-insider                en           Business Insider   \n",
            "buzzfeed                        en                   Buzzfeed   \n",
            "cbs-news                        en                   CBS News   \n",
            "cnn                             en                        CNN   \n",
            "crypto-coins-news               en          Crypto Coins News   \n",
            "engadget                        en                   Engadget   \n",
            "entertainment-weekly            en       Entertainment Weekly   \n",
            "espn                            en                       ESPN   \n",
            "espn-cric-info                  en             ESPN Cric Info   \n",
            "fortune                         en                    Fortune   \n",
            "fox-news                        en                   Fox News   \n",
            "fox-sports                      en                 Fox Sports   \n",
            "google-news                     en                Google News   \n",
            "hacker-news                     en                Hacker News   \n",
            "ign                             en                        IGN   \n",
            "mashable                        en                   Mashable   \n",
            "medical-news-today              en         Medical News Today   \n",
            "msnbc                           en                      MSNBC   \n",
            "mtv-news                        en                   MTV News   \n",
            "national-geographic             en        National Geographic   \n",
            "national-review                 en            National Review   \n",
            "nbc-news                        en                   NBC News   \n",
            "new-scientist                   en              New Scientist   \n",
            "newsweek                        en                   Newsweek   \n",
            "new-york-magazine               en          New York Magazine   \n",
            "next-big-future                 en            Next Big Future   \n",
            "nfl-news                        en                   NFL News   \n",
            "nhl-news                        en                   NHL News   \n",
            "politico                        en                   Politico   \n",
            "polygon                         en                    Polygon   \n",
            "recode                          en                     Recode   \n",
            "reddit-r-all                    en              Reddit /r/all   \n",
            "reuters                         en                    Reuters   \n",
            "techcrunch                      en                 TechCrunch   \n",
            "techradar                       en                  TechRadar   \n",
            "the-american-conservative       en  The American Conservative   \n",
            "the-hill                        en                   The Hill   \n",
            "the-huffington-post             en        The Huffington Post   \n",
            "the-next-web                    en               The Next Web   \n",
            "the-verge                       en                  The Verge   \n",
            "the-wall-street-journal         en    The Wall Street Journal   \n",
            "the-washington-post             en        The Washington Post   \n",
            "the-washington-times            en       The Washington Times   \n",
            "time                            en                       Time   \n",
            "usa-today                       en                  USA Today   \n",
            "vice-news                       en                  Vice News   \n",
            "wired                           en                      Wired   \n",
            "\n",
            "                                                                 url  \n",
            "id                                                                    \n",
            "abc-news                                      https://abcnews.go.com  \n",
            "al-jazeera-english                          http://www.aljazeera.com  \n",
            "ars-technica                                  http://arstechnica.com  \n",
            "associated-press                                 https://apnews.com/  \n",
            "axios                                          https://www.axios.com  \n",
            "bleacher-report                        http://www.bleacherreport.com  \n",
            "bloomberg                                   http://www.bloomberg.com  \n",
            "breitbart-news                              http://www.breitbart.com  \n",
            "business-insider                      http://www.businessinsider.com  \n",
            "buzzfeed                                    https://www.buzzfeed.com  \n",
            "cbs-news                                      http://www.cbsnews.com  \n",
            "cnn                                                http://us.cnn.com  \n",
            "crypto-coins-news                                https://www.ccn.com  \n",
            "engadget                                    https://www.engadget.com  \n",
            "entertainment-weekly                               http://www.ew.com  \n",
            "espn                                              http://espn.go.com  \n",
            "espn-cric-info                          http://www.espncricinfo.com/  \n",
            "fortune                                           http://fortune.com  \n",
            "fox-news                                      http://www.foxnews.com  \n",
            "fox-sports                                  http://www.foxsports.com  \n",
            "google-news                                  https://news.google.com  \n",
            "hacker-news                             https://news.ycombinator.com  \n",
            "ign                                               http://www.ign.com  \n",
            "mashable                                        https://mashable.com  \n",
            "medical-news-today                   http://www.medicalnewstoday.com  \n",
            "msnbc                                           http://www.msnbc.com  \n",
            "mtv-news                                     http://www.mtv.com/news  \n",
            "national-geographic               http://news.nationalgeographic.com  \n",
            "national-review                      https://www.nationalreview.com/  \n",
            "nbc-news                                      http://www.nbcnews.com  \n",
            "new-scientist              https://www.newscientist.com/section/news  \n",
            "newsweek                                    https://www.newsweek.com  \n",
            "new-york-magazine                                   http://nymag.com  \n",
            "next-big-future                        https://www.nextbigfuture.com  \n",
            "nfl-news                                     http://www.nfl.com/news  \n",
            "nhl-news                                    https://www.nhl.com/news  \n",
            "politico                                    https://www.politico.com  \n",
            "polygon                                       http://www.polygon.com  \n",
            "recode                                         http://www.recode.net  \n",
            "reddit-r-all                            https://www.reddit.com/r/all  \n",
            "reuters                                       http://www.reuters.com  \n",
            "techcrunch                                    https://techcrunch.com  \n",
            "techradar                                   http://www.techradar.com  \n",
            "the-american-conservative    http://www.theamericanconservative.com/  \n",
            "the-hill                                          http://thehill.com  \n",
            "the-huffington-post                    http://www.huffingtonpost.com  \n",
            "the-next-web                                   http://thenextweb.com  \n",
            "the-verge                                    http://www.theverge.com  \n",
            "the-wall-street-journal                           http://www.wsj.com  \n",
            "the-washington-post                   https://www.washingtonpost.com  \n",
            "the-washington-times                https://www.washingtontimes.com/  \n",
            "time                                                 http://time.com  \n",
            "usa-today                               http://www.usatoday.com/news  \n",
            "vice-news                                      https://news.vice.com  \n",
            "wired                                          https://www.wired.com  \n"
          ],
          "name": "stdout"
        }
      ]
    },
    {
      "cell_type": "markdown",
      "metadata": {
        "id": "fTIi51gyzQpT",
        "colab_type": "text"
      },
      "source": [
        "## Method: eachNewsHeadlines\n",
        "### collects each 55 news headline"
      ]
    },
    {
      "cell_type": "code",
      "metadata": {
        "id": "8F3fBTFHpQAX",
        "colab_type": "code",
        "colab": {}
      },
      "source": [
        "def eachNewsHeadlines(ID):\n",
        "\tresponse = requests.get('https://newsapi.org/v2/top-headlines?sources=' + ID + '&apiKey=55b9f473b6e642ac862d315a124c6619')\n",
        "\tjson = response.json()\n",
        "\tif json['status'] != 'ok':\n",
        "\t\traise IOError('API key is probably overused :(')\n",
        "\ttopNews = []\n",
        "\ttopNews.append(ID)\n",
        "\tfor elem in json['articles']:\n",
        "\t\ttopNews.append(elem['title'])\n",
        "\treturn topNews"
      ],
      "execution_count": 35,
      "outputs": []
    },
    {
      "cell_type": "code",
      "metadata": {
        "id": "Ysr6mh7pxPKN",
        "colab_type": "code",
        "colab": {
          "base_uri": "https://localhost:8080/",
          "height": 972
        },
        "outputId": "73b17a6d-d112-4e10-df0e-4225e8007458"
      },
      "source": [
        "headlines = []\n",
        "for id in df['id']:\n",
        "  headlines.append(eachNewsHeadlines(id))"
      ],
      "execution_count": 45,
      "outputs": [
        {
          "output_type": "stream",
          "text": [
            "['abc-news', 'Protesters arrested in Charlotte as GOP delegates arrive', 'Trump ordered to pay $44,100 in Stormy Daniels legal fees', 'US WeChat users sue Trump over order banning messaging app', 'House set to vote on USPS bill amid mail-in voting controversy', 'Officials: Police shoot, kill man outside store in Louisiana', 'Statue of lauded rocker Chris Cornell vandalized in Seattle', \"Family says USPS lost veterans' remains\", 'Tropical Storm Laura, Marco simultaneously heading toward Gulf of Mexico', 'Smoke fills air as Portland police clear riot at precinct', \"Steve Bannon calls his arrest 'a political hit job,' says effort was in support of Trump\"]\n",
            "['al-jazeera-english', 'West African mediators arrive in Mali to push for coup reversal', \"Alexei Navalny's health condition 'very worrying'\", 'Global coronavirus death toll hits 800,000: Live news']\n",
            "['ars-technica', 'New Wonder Woman 1984 trailer offers first look at Kristen Wiig’s Cheetah', 'Hint of COVID-19 immunity: 3 sailors with antibodies spared in outbreak at sea', 'This plane flies itself—we went for a ride', 'The race to collect the pandemic’s history—as it unfolds', 'Former Uber security chief faces criminal charges for hiding 2016 breach', 'July was a hot one, but here’s what NOAA sees ahead for the US', 'How do you do, fellow gamers?—Burger King exploits Twitch for cheap ads', 'Peer inside a mummified cat from ancient Egypt, courtesy of high-res 3D X-rays', 'Ancient lake sites suggest lots of precipitation on Mars', 'Untested COVID-19 vaccine, Sputnik V, begins 40,000-person trial next week']\n",
            "['associated-press', \"London's famous Tower Bridge gets stuck in an open position\", '2 bodies found, 2 missing after explosion in Texas port', \"Ketamine that's injected during arrests draws new scrutiny\", 'AP EXCLUSIVE: US faces back-to-school laptop shortage', 'How does coronavirus spread at a concert? Germans do a test', \"AP FACT CHECK: Trump's distortion on Dems and the pledge\", 'As more colleges stay online, students demand tuition cuts', 'The bully pulpit: Trump pushes Washington, but virus resists', 'Miami ICU nurse: I have never in my life seen so many deaths', \"Democrats see racism in GOP mispronunciations of 'Kamala'\"]\n",
            "['axios', 'Axios Pro Rata: Silicon Valley&#x27;s Veep — AirIPO — Brooks Brothers lives', 'The busiest owner in sports', 'GOP congressman condemns QAnon after conspiracy theorist wins Georgia runoff', 'House Oversight chair introduces bill to preserve USPS services', 'U.S. threatens to veto UN peacekeeping in Lebanon over Hezbollah concerns', \"Poll: America's confidence in public school system jumps amid pandemic\", 'Watch: Gen Z and the future of politics', 'Watch: The future of employability in Milwaukee', \"Watch: Industry's digital update\", 'Coronavirus dashboard']\n",
            "['bleacher-report', 'NBA', 'Anthony Edwards B/R Exclusive', '2020 MLB Prospect Power Rankings for Top 30 Catchers', 'Addressing the Biggest Questions About NBA Draft Prospect Obi Toppin', 'The Biggest MLB Trade Chips Available from Sellers Ahead of 2020 Deadline', '2020 NBA Draft: Long Shots Who Could Sneak into the Lottery', \"NBA Players Drop in to 'Courtnite'\"]\n",
            "['bloomberg', 'Student Travel Company STA Stops Trading in the U.K.', 'Smoke Fills Air as Portland Police Clear Riot at Precinct', 'Stressed About U.S. Stocks, Investors Are Betting Big on Europe', 'Sarah Halzack on Clothing Stores Fight Back (Podcast)', \"Boeing's Fed Backstop Leaves Workers in Lurch\", 'Flagging Brexit Negotiations Revive the Specter of No Deal Again', \"TikTok's U.S. Chief Says Video Site Will Stay Despite Trump Ban\", 'Amazon Told to Come Clean in German Toilet-Paper Pricing Probe', 'A Reeling Lebanon Is Back in Lockdown as Coronavirus Surges', 'Stocks Extend Weekly Advance After Economic Data: Markets Wrap']\n",
            "['breitbart-news', 'Innocent Bystander Paralyzed After NYC Shooting in Broad Daylight', \"TN Bishop: I Don’t See How Joe Biden Claims to Be a ‘Faithful Catholic'\", \"Portland Rioters Threaten People in Homes: 'Come Out, into Streets'\", \"Police: Multiple Arrests Made During Riot Outside Portland's North Precinct\", \"Nolte: Rose McGowan Rips DNC, Clintons -- 'I Believe Joe Biden Is a Rapist'\", \"Rose McGowan Body Slams Alyssa Milano: 'Get Off My Coattails You F**ing Fraud'\", \"Donald Trump: Democrats Removed 'God' from Pledge of Allegiance 'on Purpose'\", \"Donald Trump: Joe Biden Is 'More Likable,' but Hillary Clinton Is 'Much Smarter'\", \"FNC's Carlson: Democrats See 'Fading' Biden's Non-Threatening Nature as an Advantage\", \"Biggs: Biden National Mask Mandate About 'Control' - 'Going to Have a Big Problem' with Central Power if They'll Shut Down over Flu\"]\n",
            "['business-insider', 'Trump attacked and misrepresented Democrats on Pledge of Allegiance - Business Insider', 'Costa Rica reopening in September to US tourists from 6 states - Insider', 'Joe Biden economic plan details, would mull stimulus checks if elected - Business Insider', 'How Carnival mishandled the coronavirus, according to cruise employees - Business Insider', 'Apple helped build top secret iPod that only 4 employees knew about - Business Insider', 'COVID-19: List of countries that have reported no coronavirus cases - Business Insider', 'Tech execs are donating millions to get psychedelics FDA-approved - Business Insider', 'Major wildfires growing in northern California: updates - Insider', 'Biden rips into Trump for not standing up to Putin over Navalny - Business Insider', 'How Amazon exec Dave Clark became a force in corporate America - Business Insider']\n",
            "['buzzfeed', \"If You Don't Pass This Trivia Quiz, You Don't Know Anything\", '16 Jokes For Anyone Obsessed With Aragorn, Legolas, And Gimli From \"The Lord Of The Rings\"', 'Sofia Vergara Responded To A Clip Of Ellen DeGeneres Joking About Her Accent', 'Maine Wedding Reception Coronavirus Outbreak Leads To One Death', '17 Movie Scenes That Never Fail To Frustrate People', 'People Are Sharing The Cooking Habits That Absolutely Drive Them Up The Wall', '47 Things That Made Me Think, “Why Don’t I Own That Already?”', '19 Times Men Described Women In Books That Make Me Question Why They Have Rights', '17 Rom-Com Scenes That Are Accidentally Skin-Crawlingly Cringe', 'WTF Is Happening Today? BuzzFeed Newsletters Can Help!']\n",
            "['cbs-news', \"The race begins for Kamala Harris' Senate seat\", 'California governor weighing potential replacements for Kamala Harris in Senate', 'How does coronavirus spread? When will a vaccine be available? Your COVID-19 questions, answered', 'The Gulf Coast preps for two tropical storms to make landfall', 'White House Rose Garden changes unveiled by first lady Melania Trump ahead of her Republican National Convention speech', 'House to vote on reversing changes and providing $25 billion for U.S. Postal Service', 'One person dead after wedding reception in Maine linked to COVID-19 outbreak', 'Crews in California battle some of the largest blazes in state history', '2 tropical storms threatening the Gulf Coast could make history', \"Could the U.K.'s Boris Johson get along with Joe Biden?\"]\n",
            "['cnn', 'Biden says he would shut down US to stop coronavirus if scientists recommended it', 'Fact Check: Trump misleads on lowering drug prices', 'First lady Melania Trump unveils White House Rose Garden restorations', 'The US Senate candidate who took a QAnon pledge', 'Young voters prefer Biden, but they may not vote', 'Smerconish: This teenager may shield Joe Biden from future attacks on his mental faculties - CNN Video', 'Trump is leading Republicans to an unwanted record in the popular vote', \"The Postal Service may need a bailout. But it's actually making tons of cash\", \"Analysis: Pressure mounts on Trump to match Biden's convention appearance\", 'Opinion: The Republican Party has a tough choice to make']\n",
            "['crypto-coins-news', 'The Stock Market Is Holding Its Breath for a Pullback', \"Meghan Markle Gets Trashed For Voting Remarks - and I'm Exasperated\", \"Yaya Toure is Wrong. Pep Guardiola Doesn't Need the Champions League\", \"High Jobless Claims Aren't Going Away in This 'Record' Stock Market\", \"Here's Why the U.S. Stock Market's Recovery Is an Illusion\", \"The Dow Is Rallying Because Wall Street Doesn't Care If Biden Wins\", \"The Ugly Truth About the Netflix Cuties 'Pedobait' Scandal\", 'Could the Housing Market Save Capitalism as We Know It?', \"Here's Why Persona 4 May Herald a New PC 'Golden' Age for Sega\", \"It's Obvious Why Kate Middleton Didn't Pander to Meghan Markle\"]\n",
            "['engadget', \"Radio Flyer's $100 Tesla Model Y is powered by kids' feet\", 'Samsung Galaxy Note 20 Ultra review: Unabashedly over the top', \"Hisense's $4,000 laser projector comes with a 100-inch screen\", \"Google's smart displays will simplify multi-room audio\", 'Google asks to test a new type of wireless broadband']\n",
            "['entertainment-weekly', 'Greg Berlanti says pandemic will have an impact on the next Arrowverse crossover', \"<em>Brooklyn Nine-Nine</em> star Melissa Fumero calls out Canadian remake's whitewashed casting\", '<em>The Suicide Squad</em>: James Gunn reveals a bunch of new footage', \"<em>The Flash</em> movie reveals first look at Barry Allen's new suit\", \"Gal Gadot faces off with Kristen Wiig's Cheetah in new <em>Wonder Woman 1984</em> trailer\", \"Sofia Vergara defends Ellen DeGeneres after interview clip resurfaces: 'I was never a victim'\", 'What to Watch this Weekend: <em>Lucifer</em> rises again with season 5 premiere on Netflix']\n",
            "['espn', 'San Francisco 49ers lineman Trent Williams has high praise for teammate Nick Bosa', 'Brittney Griner leaves WNBA bubble, Phoenix Mercury announce', \"Mavericks' Luka Doncic likely to be game-time decision for Game 4 vs. Clippers\", \"Bucks' Marvin Williams and Magic's James Ennis ejected in NBA Eastern Conference first-round Game 3 altercation\", 'Ron Rivera acknowledges struggles ahead, asks team to step up', 'Ravens sent Earl Thomas home Friday after fiery on-field argument with Chuck Clark, source says', \"Fantasy football rankings - Eric Karabell's running back tiers\"]\n",
            "['espn-cric-info', 'PCB hands Umar Akmal three-year ban from all cricket | ESPNcricinfo.com', \"Akram's yorkers, Hegg's hits, and Chapple's 6 for 18 | ESPNcricinfo.com\", \"'It was the first time we realised we can also cry after winning a game'\", \"Five famous people (and one cat) you didn't know have ESPNcricinfo profiles | ESPNcricinfo.com\", \"Sri Lanka don't win the 1996 World Cup | ESPNcricinfo.com\", \"I'm fighting my own benchmarks - R Ashwin | ESPNcricinfo.com\", 'The Coronavirus soap opera, starring KP, Warnie, Mahela | ESPNcricinfo.com', 'Five CSK games only hardcore fans will remember | ESPNcricinfo.com', \"'This is a ball the whole world will remember' - Saeed Ajmal v Sachin Tendulkar revisited | ESPNcricinfo.com\", 'What we learned from watching the 1992 World Cup final in full again | ESPNcricinfo.com']\n",
            "['fortune', 'A pair of twin YouTubers offer a lesson in openness', 'Paul Ryan jumps onto the SPAC train', 'Why Barack Obama would be taking down TikTok, too', 'The Chinese and U.S. Internets are drifting apart. Why that’s bad for the whole world', 'Women are finally reclaiming the ‘house dress’', 'Corporate values under a Biden presidency', 'Investors ride the Big Tech rally even as COVID cases and unemployment spike', 'COVID-19 has spurred rapid transformation in health care. Let’s make sure it stays that way', 'Why female leaders are faring better than ‘wartime presidents’ against COVID-19', 'The President is going postal']\n",
            "['fox-news', 'Students demand tuition cuts as more colleges pivot to virtual learning', \"Newt Gingrich: Why Biden's boffo convention speech could hobble the rest of his campaign\", 'Portland attack victim on the arrest of Marquese Love who kicked him from behind', \"Pelosi rips Trump for trying to 'scare' voters: 'Don't pay any attention to what the president is saying'\", 'House holds rare Saturday vote on postal funding', 'Pelosi: It’s very important to shine a light on the Postal Service', 'Sen. John Kennedy on battle over COVID relief, USPS funding fight', 'Rep. Jim Jordan on debate over mail-in voting, USPS funding', 'Wedding guest in Texas shoots groom in chest; bride refuses to talk', 'Missing Arkansas jogger found dead, suspect in custody: reports']\n",
            "['fox-sports', '', 'WWE', '', 'MLB', 'Watch WWE Friday Night SmackDown from July 17th in 3 minutes | FRIDAY NIGHT SMACKDOWN (VIDEO)', \"Which two members of the Madden 21 '99 Club' would you build around?\", 'MVP, Cy Young, Rookie of the Year: Who are favorites to win MLB awards?', '', 'NFL News, Videos, Scores, Teams, Standings, Stats', \"The NFL and Daniel Snyder respond to Thursday's Washington Post story\"]\n",
            "['google-news', 'Detroit firefighter veteran found dead after diving into river to save 3 young girls', 'House Democrats pass $25bn bill to fund US Postal Service', \"Syracuse University suspends 23 students after 'incredibly reckless' gathering\", 'Trump looks to Republican convention for optimistic campaign reboot', 'First lady Melania Trump unveils White House Rose Garden restorations', 'More than 1 million acres have burned in California since July as monster fires rage around Bay Area', '2 tropical storms pose a potential double hurricane threat to U.S. Gulf Coast', 'Trump set to block controversial Alaska gold mine', \"The 14-hour storm caused extensive damage. Now Iowans are trying to recover from the 'land hurricane'\"]\n",
            "['hacker-news', \"Reverse-engineering the 8086's Arithmetic/Logic Unit from die photos\", 'degoogle', 'Future of DeepSpeech / STT after recent changes at Mozilla', 'Build tools around workflows, not workflows around tools', 'VTM', 'Initial public offerings are back in Silicon Valley', 'Zero G: Some German mobile users still waiting for a signal', 'Uber and Lyft competitors ready to pounce if service is suspended in California', 'Mystery of Interstellar Visitor &lsquo;Oumuamua Gets Trickier', '22 investors backed Bezos in 1994. Their returns? Mind-boggling']\n",
            "['ign', \"How Is Steve Trevor Alive in Wonder Woman? Chris Pine's Return, Explained - IGN\", 'Gotham Knights: WB Games Montreal Explains Why It Killed Batman - IGN', 'The Suicide Squad Movie Trailer - IGN', \"The Suicide Squad Who's Who: Full Cast and Character Reveals - IGN\", 'Batman: 12 Years a Slave Screenwriter Reinvents the Dark Knight in 2021 - IGN', 'Daily Deals: Big Savings on DC Movies, Games and More - IGN', 'DC FanDome: The Biggest and Best Announcements and Reveals So Far - IGN', \"James Gunn's Suicide Squad Is a 'Gritty War Movie' With Exploding Genitals - IGN\", 'The Flash: New Movie Costume Revealed - IGN', 'The Suicide Cast Revealed: Who Does Idris Elba Play? - IGN']\n",
            "['mashable', \"How to make iPhone's Screen Time actually helpful\", 'AOC opens up about death threats after baseball team shows offensive video of her', 'Uber will now kick off riders with low ratings', 'Metal Mario makes his Hot Wheels debut this summer', 'Amazon challenges Google with smaller, cheaper Echo Show', 'DC’s ‘Doom Patrol’ is the rare superhero show that understands trauma', 'Trump and Biden court older women demographic with Facebook ads']\n",
            "['medical-news-today', 'Even mild COVID-19 may produce long lasting immunity', 'Is COVID-19 more dangerous because SARS-CoV-2 reduces specific microRNAs?', 'Treating COVID-19: Bipolar drug shows promise and other hopeful findings', 'The Recovery Room: News beyond the pandemic', 'Tool to help manage COVID-19 patients with diabetes', 'Dry heat can effectively sanitize N95 masks', 'Will the COVID-19 pandemic and Black Lives Matter change science and society?', 'COVID-19: How a new blood test could help speed up vaccine development and population screening', 'How does weather affect COVID-19?', 'Live updates: Coronavirus COVID-19']\n",
            "['msnbc', 'Morning Joe | MSNBC Morning Joe Live with Joe Scarborough', 'MTP Daily on MSNBC', 'The Beat With Ari Melber on MSNBC']\n",
            "['mtv-news', \"Travis Scott's 'The Plan' Is A Bass-Rattling Tenet Trip\", \"Greyson Chance's Victory Bell, Tomberlin's 'Wasted' Dream, And More Songs We Love\", \"BTS Detonate Their 'Dynamite' For An Infectiously Catchy Disco Dream\", \"Listen To Twice's Energetic English Take On 'More & More'\", 'DaBaby And Black Eyed Peas Will Bring The Heat Performing At The 2020 VMAs']\n",
            "['national-geographic', 'The robot revolution has arrived', 'Why we explored humanity’s complicated relationship with robots', 'This ‘rhino court’ had 100 percent poacher convictions. Why was it closed?', 'Why are so many artists drawn to Maine?', 'Coronavirus gets dangerously close to isolated ‘Arrow People’ in Amazon', 'Farming coffee continues to grow hope in Caquetá, Colombia', 'Tainted sanitizers and bootleg booze are poisoning people', 'En garde! Why France was the dueling capital of Europe', 'COVID-19 vaccines could become mandatory. Here’s how it might work.', 'The fight to save America’s historic Black cemeteries']\n",
            "['national-review', 'Zuckerberg Defends Refusal to Censor Political Ads: ‘People Can See for Themselves what Politicians Are Saying’', 'Ukraine President Zelensky Denies Negotiating ‘Quid Pro Quo,’ Criticizes Trump’s Stance on Ukraine Corruption', 'Aunt Becky and the ‘Underpaid Teachers’ Myth', 'No, You Don’t ‘Have to Go to College to Become a Welder’', 'Hey Christians, Are We a Welcoming Committee?', 'A Counterintuitive and Compelling Case for Class-Action Lawsuits', 'History Is Short', 'A Weakened Chinese State Presents Its Own Dangers', 'Kenneth Clark’s <i>Civilisation</i> After a Half Century', 'Why Al Pacino Matters']\n",
            "['nbc-news', 'House debates Postal Service changes, funds ahead of vote in rare Saturday session', 'Trump ordered to pay $44,100 in Stormy Daniels legal fees', 'Spruced-up White House Rose Garden set for Melania Trump speech', \"'White supremacy' was behind child separations — and Trump officials went along, critics say\", 'Belarus appears to block news media websites as opposition leader calls for more protests', 'College students serve as contact tracers as pandemic colors campus life', 'Senate Russia report proves Trump was wrong, and Mueller was right. Do voters care?', 'Kremlin critic Navalny on flight from Russia to Germany in coma', 'QAnon looms behind nationwide rallies and viral #SavetheChildren hashtags', 'America failed Ferraro and Palin. What can their VP campaigns teach us about sexism?']\n",
            "['new-scientist', 'Covid-19 news: UK cases level off as R number rises slightly', \"Man sees half of every face like it's melting due to rare brain lesion\", \"Cancer tumour microbiome may predict a person's chances of survival\", 'How likely are you to be infected by the coronavirus on a flight?', 'Walking catfish may use their whole body to smell when on land', 'Sea turtles carrying thermometers could improve hurricane forecasts', 'We should rewild the sky to restore the atmosphere to its former glory', 'Why dark matter should be called something else', 'What Hiroshima teaches us about coronavirus and the future of humanity', 'A weather forecast for fake news outbreaks on social media is coming']\n",
            "['newsweek', 'Minnesota and Nebraska Officials Say COVID-19 Cases Linked to Sturgis Motorcycle Rally', 'Biden Leads Over Trump in Five Battleground States as Much as 12 Points: Poll', \"Russian Opposition Leader Navalny Was 'Taken Away from Us in Secret,' Press Sec. Says\", \"ISIS Church Bombs Help China Gain Indian Ocean Ally to America's Chagrin\", \"'I Designed Michelle Obama's VOTE Necklace'\", 'Leading Engineering & Computer Science Programs 2020', 'What Brands do You Trust the Most?', 'Best Maternity Care Hospitals 2020', \"America's Best Realtors 2020\", 'Newsweek AMPLIFY Empowers Affiliate Brands Through Digital Content']\n",
            "['new-york-magazine', '13 Books You Should Read About Black Lives']\n",
            "['next-big-future', 'Scale of Future Tesla Dominance Tricks You Into Thinking It Is Hype', 'artificial intelligence', 'AGI', 'Ben Goertzel 2020 Interview on Artificial General Intelligence', 'elon musk', 'Tesla Will Overcome Denial in the Next 8 Months and Become a $1 Trillion Tech Giant', 'COVID-19 Is Prompting Enterprises to Adjust Integrated Data Strategies', 'energy', 'Pocket Sized Particle Accelerator Using THz Laser Pulses', 'coronavirus']\n",
            "['nfl-news', \"Emmitt Smith: Cowboys can't play 'chicken' with Dak\", 'Raiders, CB Prince Amukamara agree to terms', \"Meyer: Haskins needs 'great players,' 'elite culture'\", \"Colts excited about '1-1 punch' in RBs Mack, Taylor\", 'NFL to closely monitor restart of soccer in Europe', 'Falcons could bring in competition for Younghoe Koo', 'Jets showing interest in free-agent CB Logan Ryan', \"Cards' Isaiah Simmons to focus on 1 position in NFL\", \"Dolphins' Tua Tagovailoa tops jersey sales since draft\", \"Gase: What Frank Gore brings to Jets is 'hard to teach'\"]\n",
            "['nhl-news', 'Golden Knights vs. Canucks playoff preview', \"Stamkos won't play for Lightning in Game 1 against Bruins\", 'Canadiens had bad luck while losing to Flyers in Eastern First Round', \"Blues didn't overcome Binnington's struggles in first-round vs. Canucks\", 'Stanley Cup Playoffs spring into second round', '3 Keys: Stars vs. Avalanche, Game 1 of Western Second Round', 'Projected lineups, starting goalies for today', 'Stanley Cup Playoffs second-round schedule', 'Stanley Cup Playoffs second-round predictions', 'Avalanche vs. Stars playoff preview']\n",
            "['politico', 'Federal judge rules Cuccinelli appointment unlawful', 'The fighter pilot takes on the astronaut: McSally’s 2020 Arizona mission']\n",
            "['polygon', 'First Suicide Squad footage remakes Harley Quinn and unleashes new villains', 'Gotham Knights is the next Batman video game from WB Games', 'New Wonder Woman 1984 trailer at DC Fandome reveals Kristen Wiig’s Cheetah', 'Microsoft Flight Simulator’s visual glitches sprinkle in cosmic horror', 'Metal Gear Solid board game delayed again, from 2020 to 2021', 'Apple responds to Epic’s Fortnite lawsuit, says Tim Sweeney asked for “special deal”', 'Ubisoft collector’s editions on Xbox One, Series X won’t include disc copies', 'Everything leaving Destiny in Destiny 2: Beyond Light', 'Fortnite teases a mysterious Marvel crossover that seems to involve Thor', 'The Court of Owls: the villains of the new Batman game Gotham Knights']\n",
            "['recode', 'Dynasty Toys’ get-rich-quick scheme cost Amazon sellers thousands — and then got them banned', 'Apple’s Fortnite ban, explained', 'Amazon, Walmart, and Target reap the rewards of Covid restrictions', 'The strategy behind the Lincoln Project, the anti-Trump PAC', 'Trump just embraced followers of the violent QAnon conspiracy movement', 'Facebook bans some QAnon groups', 'Photos of USPS mailboxes being removed aren’t always what they seem', 'Do social media companies censor political speech? A majority of Americans think so.', 'Kamala Harris misinformation on Facebook and Twitter worries experts', 'Fortnite parent Epic dares Apple to block its game on iPhones']\n",
            "['reddit-r-all', 'r/memes - Spitting straight faxx', 'r/aww - Parrot reaction to music', 'r/dankmemes - Let’s hope he gives me cyberpunk 2077 next', 'r/BeAmazed - Champ!', 'r/HumansBeingBros - Helping a stray Dog.', 'r/ScottishPeopleTwitter - Just seen this had to share it', \"Hey Reddit! Interested in Cloud and how it's changing the game for companies adapting to the &quot;never normal&quot;? Then check out our AMA with Tristan Morel L'Horset, lead at Accenture for Cloud &amp; Infrastructure Growth here.\", 'r/gaming - When someone is copying your answers so you write wrong ones', 'What was she thinking?', 'Gorilla messing with his friend in a very humanlike way.']\n",
            "['reuters', 'S&P 500 closes nominally higher amid COVID-19 spikes, muted data', 'Trump unfit to be U.S. president, Democrat Pelosi, conservative Bolton agree', 'World stock markets slip on second wave virus fears, safe-havens rise', 'Trump pledges new list of conservative Supreme Court contenders', \"Atlanta officer says he is not 'state's witness' in Rayshard Brooks case\", \"Mexico's foreign ministry says it will monitor U.S. DACA program developments\", \"Pelosi says Trump 'ethically unfit' for presidency, will continue oversight\", \"Facebook takes down Trump ads over 'organized hate' policy\", 'Tesla wants to start building a new U.S. vehicle plant this summer', \"U.S. Supreme Court blocks Trump bid to end 'Dreamers' immigrant program\"]\n",
            "['techcrunch', 'Palantir and the great revenue mystery', 'Startups Weekly: Will future unicorns go public sooner?', 'Launched with $17 million by two former Norwest investors, Tau Ventures is ready for its closeup', 'Hey Apple, how about a MacBook SE?', 'Bletchley Park, birth-place of the computer, faces uncertain future after pandemic hits income', 'Hear from experienced edtech investors on the market’s overnight boom', \"This Week in Apps: Apple's antitrust war, TikTok ban, alt app ecosystems\", 'Five proven ways to attract and hire more diverse talent', \"Original Content podcast: On Netflix's 'Selling Sunset', everyone's a villain\", 'Five VCs discuss how no-code is going horizontal across the world’s industries']\n",
            "['techradar', \"Test d'Apple Arcade\", \"tvOS 14 : date de sortie, version bêta et nouvelles fonctionnalités de la prochaine mise à jour d'Apple TV\", \"PlayStation Store : économisez jusqu'à 70% sur des centaines de jeux PS4\", 'Apple prépare la rentrée des classes et offre une paire d’AirPods gratuits aux étudiants', 'Le Canon EOS R6 est le nouveau concurrent puissant du Nikon Z6', 'Les meilleures imprimantes multifonctions pour la maison']\n",
            "['the-american-conservative', 'Two Russian Icons', 'Rubio and the Rise of the Neoreactionaries', 'Post-Cold War Triumphalism and Kennan’s Warning', 'The Modernity of <i>Robinson Crusoe</i>, an American Art Pioneer, and Resurrecting James Dean', 'The Forgotten Treasure In These American Lands', 'When ‘Sexist’ (and Desperate) Democrats Bully Warren', 'The Poetry of Populism', 'What is the New ‘Woke’ Military Really Preparing Us For?', 'Watch Live Now: TAC’s ‘Regime Change’ Foreign Policy Conference', 'A Note to Progressives: Tell Me How This Ends']\n",
            "['the-hill', \"Inside Ed Markey's unlikely emergence as an icon to Gen Z activists | TheHill\", 'Meadows appears in Capitol to talk to Pelosi amid stalled coronavirus negotiations | TheHill', \"Pelosi hammers Trump for 'very dangerous' attack on FDA | TheHill\", \"Democrats say Postal Service delays 'far worse than previously acknowledged'\\xa0 | TheHill\", 'Outgoing Democratic chairman faces time crunch with Pompeo probe | TheHill', 'How six key swing states handle voting by mail | TheHill', 'Trump rails against FDA over vaccine testing | TheHill', 'House poised to approve $25B for Postal Service in rare Saturday vote | TheHill', 'Trump seeks health care victory on prescription drugs | TheHill', 'Biden unites Democrats — for now | TheHill']\n",
            "['the-huffington-post', 'House Debates Sending USPS $25 Billion In Rare Saturday Session', 'QAnon Cultists, Emboldened By Trump, Rally In Hollywood To Spread Dangerous Conspiracies', \"Protesters Gather At USPS Locations Nationwide To 'Save The Post Office'\", '2 Tropical Storms A Potential Double Threat To US Gulf Coast', 'More Than 70 Republican Ex-National Security Officials Endorse Joe Biden', \"Joe Biden: I'll 'Listen To The Scientists' On Coronavirus And Shut Down Again If Needed\", \"Trump's $300 Unemployment Benefit: A State-By-State Guide To When It Starts\", 'Europe Took A Holiday From COVID-19. Now It’s Paying The Price.', 'Top FDA Official Says He Would Resign If Agency Rubber-Stamps Unproven COVID-19 Vaccine', 'Coronavirus Live Updates: Read The Latest About The COVID-19 Outbreak']\n",
            "['the-next-web', 'Fatty acids found in fish could help treat asthma patients', 'Why AI and human perception are too complex to be compared', 'This Adobe web design training can help creators unleash sites and apps like nothing else', 'How COVID-19 is accelerating the shift away from fossil fuels', 'Red giant star Betelgeuse dimmed because it ‘sneezed,’ astronomers explain', 'Grab your popcorn: Apple fires back at Epic in new court filing', 'How to find alternate language options on HBO Max', 'How Intel helped give the ‘world’s first’ cyborg a voice', 'Apple worth $1 trillion more since COVID-19 crashed the NASDAQ 100', 'How will GPT-3 change our lives?']\n",
            "['the-verge', 'If you think Fall Guys would be a perfect mobile game, China has news for you', 'TikTok confirms it will sue the Trump administration', 'James Gunn’s Suicide Squad sequel gets first look at FanDome', 'Here’s your first look at Gotham Knights, the new game from WB Games Montreal', 'Watch the new Wonder Woman 1984 trailer from FanDome', 'COVID-19 just schooled a bunch of universities', 'WordPress claims Apple cut off updates to its completely free app because it wants 30 percent', 'Read the Epic and Apple emails that led to\\xa0Fortnite’s App Store ban', 'Apple claims Epic asked for a ‘special deal’ for Fortnite payments', 'Court of Owls: villains of new Batman game Gotham Knights, explained']\n",
            "['the-wall-street-journal', 'California Wildfires Grow to Second and Third Largest in State History', 'Putin Critic Alexei Navalny Evacuated From Russia to Germany', 'This Market Is a Tech Market. If Bond Yields Rise, Watch Out.', 'Even With a Strong Crop This Year, U.S. Farmers Are Suffering', 'House Set to Vote on Bill Barring Postal Service Cuts', 'As South Africa Lifts Ban on Wine Sales, Many Vintners Fear It’s Too Late', 'Covid-19 Is Dividing the American Worker', 'An AI Breaks the Writing Barrier', 'David Pecker, CEO of National Enquirer’s Parent, Steps Down Amid Merger With Logistics Firm', 'Covid-19 Salary Cuts Are Coming to an End at Some Companies']\n",
            "['the-washington-post', 'Election 2020 live updates: Trump, Pence to visit GOP convention site, criticize Biden’s willingness to ‘shut down’ country', 'Election 2020 live updates: Trump, Pence to visit GOP convention site, criticize Biden’s willingness to ‘shut down’ country', 'Election 2020 live updates: Trump, Pence to visit GOP convention site, criticize Biden’s willingness to ‘shut down’ country', 'Election 2020 live updates: Trump, Pence to visit GOP convention site, criticize Biden’s willingness to ‘shut down’ country', 'Election 2020 live updates: Trump, Pence to visit GOP convention site, criticize Biden’s willingness to ‘shut down’ country', 'Election 2020 live updates: Trump, Pence to visit GOP convention site, criticize Biden’s willingness to ‘shut down’ country', 'Election 2020 live updates: Trump, Pence to visit GOP convention site, criticize Biden’s willingness to ‘shut down’ country', 'Election 2020 live updates: Trump, Pence to visit GOP convention site, criticize Biden’s willingness to ‘shut down’ country', 'Election 2020 live updates: Trump, Pence to visit GOP convention site, criticize Biden’s willingness to ‘shut down’ country', 'Election 2020 live updates: Trump, Pence to visit GOP convention site, criticize Biden’s willingness to ‘shut down’ country']\n",
            "['the-washington-times', \"House Oversight Chair Maloney: Mail delays were 'far worse' than reported\", \"Nancy Pelosi says Trump is trafficking in 'voter suppression'\", \"Meadows calls for 'skinny' COVID relief package, Pelosi calls request 'deficient'\", \"Joe Biden says he'd shut down U.S. again if scientists recommend it\", 'States sue Postal Service ahead of election as mail-in ballot requests surge', \"Bernie Sanders wants 'serious debate' with Biden after teaming up on the election\", \"Mike Pompeo: U.S. to use 'every tool' to keep China, Russia from beefing up Iran's weapons arsenal\", 'FBI warns of new cyberattacks and counterintelligence threats facing D.C. think tanks', 'How To Entirely Empty Your Bowels Every Morning - Top Surgeon Explains How', 'Heart Surgeon: Throw Out Your Olive Oil Now (Here’s Why)']\n",
            "['time', 'Finding Hope: The TIME 100 Community on Navigating Our New Reality', \"Why You're Regressing to Your Teenage Self During the COVID-19 Outbreak\", 'Renters Are Being Forced From Their Homes Despite Eviction Moratoriums Meant to Protect Them', 'Trump’s Signature Will Appear on Coronavirus Stimulus Checks', 'Watch a New York City Doctor Describe How Medical Professionals Fight Against COVID-19', \"'Otherwise I'd Be Alone.' Foster Pets Offer Much-Needed Companionship in an Age of Isolation\", 'Ditching Zoom? Here Are 10 Video Chat Alternatives You Can Use Instead']\n",
            "['usa-today', 'House returns from recess to vote on additional $25 billion for United States Postal Service', 'California wildfires updates: Redwoods burn in Big Basin state park, more lightning possible this weekend', \"'Hurry, he's dying': A hospital chaplain’s journal chronicles a pandemic's private wounds\", 'Supreme Court, federal judiciary rising as key issue in presidential, Senate elections', \"Could hurricanes collide? Here's what may happen if\\xa0Laura and Marco meet up in the Gulf\", \"'Not an easy task': GOP scrambles to finalize plans for convention amid COVID-19, venue changes, Trump input\", 'Gannett news president: Diversity and inclusion are choices, not just words. Today we reaffirm our mission.', 'Where you can vote by mail, absentee ballot in the 2020 election', 'Women of the Century', 'INSIDE The Amway Coaches Poll - Former Head Coach Mark Richt joins the show plus Ryan Aber of The Oklahoman - INSIDE The Amway Coaches Poll - Omny.fm']\n",
            "['vice-news', \"A GOP Lawmaker Tested Positive for Coronavirus and Didn't Bother to Tell His Democratic Colleagues\", 'This GOP Congressman Officiated a Gay Wedding, and It Could Cost Him an Election', \"‘It's The End of Hong Kong’: The National Security Law China Just Approved Is The Protest Movement's Worst Nightmare\", 'Far-Right Social Network Gab Has a Verified Account Waiting For Trump With 27,000 Followers', 'Minneapolis is Burning: Protesters Loot and Set Buildings On Fire to Protest Police Killing of George Floyd', \"New Videos Appear to Undermine Police Account That George Floyd 'Resisted' Officers\", \"Coronavirus Took Away a Huge Milestone for First-Generation Graduates: 'I Can't Stop Crying'\", \"Trump's FDA Won't Let Women Get Abortion Pills Remotely In a Pandemic. So The ACLU Is Suing.\", 'Tara Reade Is Now Being Investigated For Allegedly Lying on the Witness Stand', \"The Cops Involved in George Floyd's Fatal Arrest Had Previous Violent Incidents on the Force\"]\n",
            "['wired', 'Facebook Finally Cracks Down on QAnon', 'Solar Panels Are Starting to Die, Leaving Behind Toxic Trash', 'The 6 Best TVs for Every Budget (2020): TCL, Samsung, LG', 'A Standing Desk Changed My Life—It Can Save Yours Too', 'The 14 Best Weekend Deals: Earbuds, Robot Vacuums, and More', \"Facebook's ‘Kill Switch’ Solves the Wrong Problem\", \"The Uncanny Escapism of 'Flight Simulator 2020'\", 'California Wildfires Can Create Their Own Terrifying Weather', '9 Best Cheap Laptops for 2020: Our Picks for $700 or Less', 'A Rocket Scientist’s Love Algorithm Adds Up During Covid-19']\n"
          ],
          "name": "stdout"
        }
      ]
    },
    {
      "cell_type": "markdown",
      "metadata": {
        "id": "NZHSVRnNKfKZ",
        "colab_type": "text"
      },
      "source": [
        "## Method: parseWords\n",
        "### this will parse the headlines to count how many times each vocabs appears in headlines"
      ]
    },
    {
      "cell_type": "code",
      "metadata": {
        "id": "tAWD02dfH5AF",
        "colab_type": "code",
        "colab": {}
      },
      "source": [
        "import re"
      ],
      "execution_count": 37,
      "outputs": []
    },
    {
      "cell_type": "code",
      "metadata": {
        "id": "v9uzdNApGPua",
        "colab_type": "code",
        "colab": {}
      },
      "source": [
        "def parseWords(headlines, dic):\n",
        "  for headline in headlines:\n",
        "    for line in headline[1:]:\n",
        "      vocabs = re.split('\\W+', line)\n",
        "      for vocab in vocabs:\n",
        "        if vocab in dic:\n",
        "          dic[vocab] += 1\n",
        "        else:\n",
        "          dic[vocab] = 1"
      ],
      "execution_count": 51,
      "outputs": []
    },
    {
      "cell_type": "code",
      "metadata": {
        "id": "8TIc5ixoIw-h",
        "colab_type": "code",
        "colab": {
          "base_uri": "https://localhost:8080/",
          "height": 54
        },
        "outputId": "d3f79a48-d708-4832-e552-9b85842d09ea"
      },
      "source": [
        "parseVocab = {}\n",
        "parseWords(headlines, parseVocab)\n",
        "print(parseVocab)"
      ],
      "execution_count": 52,
      "outputs": [
        {
          "output_type": "stream",
          "text": [
            "{'Protesters': 3, 'arrested': 1, 'in': 83, 'Charlotte': 1, 'as': 19, 'GOP': 16, 'delegates': 1, 'arrive': 2, 'Trump': 54, 'ordered': 2, 'to': 122, 'pay': 3, '44': 2, '100': 7, 'Stormy': 2, 'Daniels': 2, 'legal': 2, 'fees': 2, 'US': 8, 'WeChat': 1, 'users': 2, 'sue': 3, 'over': 9, 'order': 1, 'banning': 1, 'messaging': 1, 'app': 3, 'House': 15, 'set': 3, 'vote': 9, 'on': 47, 'USPS': 8, 'bill': 3, 'amid': 5, 'mail': 5, 'voting': 3, 'controversy': 1, 'Officials': 3, 'Police': 5, 'shoot': 1, 'kill': 1, 'man': 1, 'outside': 1, 'store': 1, 'Louisiana': 1, 'Statue': 1, 'of': 58, 'lauded': 1, 'rocker': 1, 'Chris': 2, 'Cornell': 1, 'vandalized': 1, 'Seattle': 1, 'Family': 1, 'says': 11, 'lost': 1, 'veterans': 1, 'remains': 1, 'Tropical': 2, 'Storm': 1, 'Laura': 2, 'Marco': 2, 'simultaneously': 1, 'heading': 1, 'toward': 1, 'Gulf': 6, 'Mexico': 2, 'Smoke': 2, 'fills': 1, 'air': 1, 'Portland': 5, 'police': 1, 'clear': 1, 'riot': 1, 'at': 13, 'precinct': 1, 'Steve': 2, 'Bannon': 1, 'calls': 5, 'his': 5, 'arrest': 2, 'a': 54, 'political': 2, 'hit': 1, 'job': 1, 'effort': 1, 'was': 10, 'support': 1, 'West': 1, 'African': 1, 'mediators': 1, 'Mali': 1, 'push': 1, 'for': 47, 'coup': 1, 'reversal': 1, 'Alexei': 2, 'Navalny': 5, 's': 108, 'health': 3, 'condition': 1, 'very': 4, 'worrying': 1, '': 76, 'Global': 1, 'coronavirus': 10, 'death': 2, 'toll': 1, 'hits': 3, '800': 1, '000': 4, 'Live': 5, 'news': 6, 'New': 8, 'Wonder': 5, 'Woman': 5, '1984': 4, 'trailer': 4, 'offers': 1, 'first': 9, 'look': 4, 'Kristen': 3, 'Wiig': 3, 'Cheetah': 3, 'Hint': 1, 'COVID': 31, '19': 33, 'immunity': 2, '3': 6, 'sailors': 1, 'with': 19, 'antibodies': 1, 'spared': 1, 'outbreak': 2, 'sea': 1, 'This': 12, 'plane': 1, 'flies': 1, 'itself': 1, 'we': 6, 'went': 2, 'ride': 2, 'The': 59, 'race': 2, 'collect': 1, 'the': 82, 'pandemic': 8, 'history': 3, 'it': 14, 'unfolds': 1, 'Former': 2, 'Uber': 3, 'security': 1, 'chief': 1, 'faces': 5, 'criminal': 1, 'charges': 1, 'hiding': 1, '2016': 1, 'breach': 1, 'July': 3, 'hot': 1, 'one': 2, 'but': 4, 'here': 2, 'what': 5, 'NOAA': 1, 'sees': 2, 'ahead': 5, 'How': 20, 'do': 4, 'you': 8, 'fellow': 1, 'gamers': 1, 'Burger': 1, 'King': 1, 'exploits': 1, 'Twitch': 1, 'cheap': 1, 'ads': 3, 'Peer': 1, 'inside': 1, 'mummified': 1, 'cat': 2, 'from': 21, 'ancient': 1, 'Egypt': 1, 'courtesy': 1, 'high': 2, 'res': 1, '3D': 1, 'X': 2, 'rays': 1, 'Ancient': 1, 'lake': 1, 'sites': 2, 'suggest': 1, 'lots': 1, 'precipitation': 1, 'Mars': 1, 'Untested': 1, 'vaccine': 4, 'Sputnik': 1, 'V': 1, 'begins': 2, '40': 1, 'person': 3, 'trial': 1, 'next': 4, 'week': 1, 'London': 1, 'famous': 2, 'Tower': 1, 'Bridge': 1, 'gets': 3, 'stuck': 1, 'an': 11, 'open': 1, 'position': 2, '2': 7, 'bodies': 1, 'found': 4, 'missing': 1, 'after': 12, 'explosion': 1, 'Texas': 2, 'port': 1, 'Ketamine': 1, 'that': 8, 'injected': 1, 'during': 1, 'arrests': 1, 'draws': 1, 'new': 15, 'scrutiny': 1, 'AP': 2, 'EXCLUSIVE': 1, 'back': 4, 'school': 2, 'laptop': 1, 'shortage': 1, 'does': 3, 'spread': 2, 'concert': 1, 'Germans': 1, 'test': 3, 'FACT': 1, 'CHECK': 1, 'distortion': 1, 'Dems': 1, 'and': 53, 'pledge': 2, 'As': 2, 'more': 7, 'colleges': 2, 'stay': 1, 'online': 1, 'students': 3, 'demand': 2, 'tuition': 2, 'cuts': 2, 'bully': 1, 'pulpit': 1, 'pushes': 1, 'Washington': 2, 'virus': 2, 'resists': 1, 'Miami': 1, 'ICU': 1, 'nurse': 1, 'I': 11, 'have': 5, 'never': 3, 'my': 2, 'life': 2, 'seen': 2, 'so': 4, 'many': 2, 'deaths': 1, 'Democrats': 8, 'see': 1, 'racism': 1, 'mispronunciations': 1, 'Kamala': 4, 'Axios': 1, 'Pro': 2, 'Rata': 1, 'Silicon': 2, 'Valley': 2, 'x27': 1, 'Veep': 1, 'AirIPO': 1, 'Brooks': 2, 'Brothers': 1, 'lives': 2, 'busiest': 1, 'owner': 1, 'sports': 1, 'congressman': 1, 'condemns': 1, 'QAnon': 7, 'conspiracy': 2, 'theorist': 1, 'wins': 1, 'Georgia': 1, 'runoff': 1, 'Oversight': 2, 'chair': 1, 'introduces': 1, 'preserve': 1, 'services': 1, 'U': 16, 'S': 15, 'threatens': 1, 'veto': 1, 'UN': 1, 'peacekeeping': 1, 'Lebanon': 2, 'Hezbollah': 1, 'concerns': 1, 'Poll': 4, 'America': 6, 'confidence': 1, 'public': 3, 'system': 1, 'jumps': 2, 'Watch': 9, 'Gen': 2, 'Z': 2, 'future': 6, 'politics': 1, 'employability': 1, 'Milwaukee': 1, 'Industry': 1, 'digital': 1, 'update': 1, 'Coronavirus': 11, 'dashboard': 1, 'NBA': 5, 'Anthony': 1, 'Edwards': 1, 'B': 1, 'R': 3, 'Exclusive': 1, '2020': 24, 'MLB': 4, 'Prospect': 2, 'Power': 2, 'Rankings': 1, 'Top': 3, '30': 2, 'Catchers': 1, 'Addressing': 1, 'Biggest': 3, 'Questions': 1, 'About': 7, 'Draft': 2, 'Obi': 1, 'Toppin': 1, 'Trade': 1, 'Chips': 1, 'Available': 1, 'Sellers': 1, 'Ahead': 1, 'Deadline': 1, 'Long': 1, 'Shots': 1, 'Who': 5, 'Could': 5, 'Sneak': 1, 'into': 5, 'Lottery': 1, 'Players': 1, 'Drop': 1, 'Courtnite': 1, 'Student': 1, 'Travel': 1, 'Company': 1, 'STA': 1, 'Stops': 1, 'Trading': 1, 'K': 2, 'Fills': 1, 'Air': 1, 'Clear': 1, 'Riot': 2, 'Precinct': 2, 'Stressed': 1, 'Stocks': 2, 'Investors': 2, 'Are': 10, 'Betting': 1, 'Big': 5, 'Europe': 4, 'Sarah': 1, 'Halzack': 1, 'Clothing': 1, 'Stores': 1, 'Fight': 2, 'Back': 2, 'Podcast': 1, 'Boeing': 1, 'Fed': 1, 'Backstop': 1, 'Leaves': 1, 'Workers': 1, 'Lurch': 1, 'Flagging': 1, 'Brexit': 1, 'Negotiations': 1, 'Revive': 1, 'Specter': 1, 'No': 2, 'Deal': 1, 'Again': 2, 'TikTok': 4, 'Chief': 1, 'Says': 3, 'Video': 3, 'Site': 1, 'Will': 6, 'Stay': 1, 'Despite': 2, 'Ban': 2, 'Amazon': 6, 'Told': 1, 'Come': 2, 'Clean': 1, 'German': 2, 'Toilet': 1, 'Paper': 1, 'Pricing': 1, 'Probe': 1, 'A': 16, 'Reeling': 1, 'Is': 20, 'Lockdown': 1, 'Surges': 1, 'Extend': 1, 'Weekly': 2, 'Advance': 1, 'After': 3, 'Economic': 1, 'Data': 2, 'Markets': 1, 'Wrap': 1, 'Innocent': 1, 'Bystander': 1, 'Paralyzed': 1, 'NYC': 1, 'Shooting': 1, 'Broad': 1, 'Daylight': 1, 'TN': 1, 'Bishop': 1, 'Don': 6, 't': 20, 'See': 3, 'Joe': 12, 'Biden': 32, 'Claims': 2, 'Be': 2, 'Faithful': 1, 'Catholic': 1, 'Rioters': 1, 'Threaten': 1, 'People': 5, 'Homes': 2, 'Out': 3, 'Streets': 1, 'Multiple': 1, 'Arrests': 1, 'Made': 2, 'During': 3, 'Outside': 1, 'North': 1, 'Nolte': 1, 'Rose': 6, 'McGowan': 2, 'Rips': 1, 'DNC': 1, 'Clintons': 1, 'Believe': 1, 'Rapist': 1, 'Body': 1, 'Slams': 1, 'Alyssa': 1, 'Milano': 1, 'Get': 2, 'Off': 1, 'My': 2, 'Coattails': 1, 'You': 9, 'F': 1, 'ing': 1, 'Fraud': 1, 'Donald': 2, 'Removed': 1, 'God': 1, 'Pledge': 2, 'Allegiance': 2, 'Purpose': 1, 'More': 8, 'Likable': 1, 'Hillary': 1, 'Clinton': 1, 'Much': 3, 'Smarter': 1, 'FNC': 1, 'Carlson': 1, 'Fading': 1, 'Non': 1, 'Threatening': 1, 'Nature': 1, 'Advantage': 1, 'Biggs': 1, 'National': 5, 'Mask': 1, 'Mandate': 1, 'Control': 1, 'Going': 2, 'Have': 3, 'Problem': 2, 'Central': 1, 'if': 6, 'They': 2, 'll': 2, 'Shut': 2, 'Down': 4, 'Flu': 1, 'attacked': 1, 'misrepresented': 1, 'Business': 8, 'Insider': 10, 'Costa': 1, 'Rica': 1, 'reopening': 1, 'September': 1, 'tourists': 1, '6': 3, 'states': 2, 'economic': 1, 'plan': 1, 'details': 1, 'would': 5, 'mull': 1, 'stimulus': 1, 'checks': 1, 'elected': 1, 'Carnival': 1, 'mishandled': 1, 'according': 1, 'cruise': 1, 'employees': 2, 'Apple': 14, 'helped': 2, 'build': 2, 'top': 2, 'secret': 1, 'iPod': 1, 'only': 2, '4': 4, 'knew': 1, 'about': 6, 'List': 1, 'countries': 1, 'reported': 2, 'no': 2, 'cases': 3, 'Tech': 4, 'execs': 1, 'are': 12, 'donating': 1, 'millions': 1, 'get': 3, 'psychedelics': 1, 'FDA': 5, 'approved': 1, 'Major': 1, 'wildfires': 2, 'growing': 1, 'northern': 1, 'California': 8, 'updates': 14, 'rips': 2, 'not': 5, 'standing': 1, 'up': 8, 'Putin': 2, 'exec': 1, 'Dave': 1, 'Clark': 3, 'became': 1, 'force': 1, 'corporate': 1, 'If': 6, 'Pass': 1, 'Trivia': 1, 'Quiz': 1, 'Know': 2, 'Anything': 1, '16': 1, 'Jokes': 1, 'For': 6, 'Anyone': 1, 'Obsessed': 1, 'With': 6, 'Aragorn': 1, 'Legolas': 1, 'And': 4, 'Gimli': 1, 'From': 4, 'Lord': 1, 'Of': 2, 'Rings': 1, 'Sofia': 2, 'Vergara': 2, 'Responded': 1, 'To': 10, 'Clip': 1, 'Ellen': 2, 'DeGeneres': 2, 'Joking': 1, 'Her': 1, 'Accent': 1, 'Maine': 3, 'Wedding': 3, 'Reception': 1, 'Outbreak': 3, 'Leads': 2, 'One': 3, 'Death': 1, '17': 3, 'Movie': 4, 'Scenes': 2, 'That': 7, 'Never': 1, 'Fail': 1, 'Frustrate': 1, 'Sharing': 1, 'Cooking': 1, 'Habits': 1, 'Absolutely': 1, 'Drive': 1, 'Them': 2, 'Up': 2, 'Wall': 2, '47': 1, 'Things': 1, 'Me': 3, 'Think': 1, 'Why': 19, 'Own': 3, 'Already': 1, 'Times': 1, 'Men': 1, 'Described': 1, 'Women': 4, 'In': 5, 'Books': 2, 'Make': 1, 'Question': 1, 'Rights': 1, 'Rom': 1, 'Com': 1, 'Accidentally': 1, 'Skin': 1, 'Crawlingly': 1, 'Cringe': 1, 'WTF': 1, 'Happening': 1, 'Today': 2, 'BuzzFeed': 1, 'Newsletters': 1, 'Can': 6, 'Help': 2, 'Harris': 3, 'Senate': 5, 'seat': 1, 'governor': 1, 'weighing': 1, 'potential': 2, 'replacements': 1, 'When': 4, 'will': 10, 'be': 8, 'available': 1, 'Your': 4, 'questions': 1, 'answered': 1, 'Coast': 4, 'preps': 1, 'two': 3, 'tropical': 3, 'storms': 3, 'make': 5, 'landfall': 1, 'White': 5, 'Garden': 4, 'changes': 5, 'unveiled': 1, 'by': 6, 'lady': 3, 'Melania': 4, 'her': 2, 'Republican': 4, 'Convention': 1, 'speech': 4, 'reversing': 1, 'providing': 1, '25': 3, 'billion': 2, 'Postal': 10, 'Service': 10, 'dead': 3, 'wedding': 1, 'reception': 1, 'linked': 1, 'Crews': 1, 'battle': 2, 'some': 2, 'largest': 1, 'blazes': 1, 'state': 3, 'threatening': 1, 'could': 7, 'Boris': 1, 'Johson': 1, 'along': 2, 'he': 5, 'shut': 12, 'down': 14, 'stop': 1, 'scientists': 2, 'recommended': 1, 'Fact': 1, 'Check': 1, 'misleads': 1, 'lowering': 1, 'drug': 2, 'prices': 1, 'First': 5, 'unveils': 2, 'restorations': 2, 'candidate': 1, 'who': 2, 'took': 1, 'Young': 2, 'voters': 3, 'prefer': 1, 'they': 2, 'may': 7, 'Smerconish': 1, 'teenager': 1, 'shield': 1, 'attacks': 1, 'mental': 1, 'faculties': 1, 'CNN': 1, 'is': 19, 'leading': 1, 'Republicans': 1, 'unwanted': 1, 'record': 1, 'popular': 1, 'need': 1, 'bailout': 1, 'But': 1, 'actually': 2, 'making': 1, 'tons': 1, 'cash': 1, 'Analysis': 1, 'Pressure': 1, 'mounts': 1, 'match': 1, 'convention': 14, 'appearance': 1, 'Opinion': 1, 'Party': 1, 'has': 5, 'tough': 1, 'choice': 1, 'Stock': 3, 'Market': 6, 'Holding': 1, 'Its': 2, 'Breath': 1, 'Pullback': 1, 'Meghan': 2, 'Markle': 2, 'Gets': 2, 'Trashed': 1, 'Voting': 1, 'Remarks': 1, 'm': 2, 'Exasperated': 1, 'Yaya': 1, 'Toure': 1, 'Wrong': 2, 'Pep': 1, 'Guardiola': 1, 'Doesn': 2, 'Need': 1, 'Champions': 1, 'League': 1, 'High': 1, 'Jobless': 1, 'Aren': 1, 'Away': 3, 'Record': 1, 'Here': 7, 'Recovery': 2, 'Illusion': 1, 'Dow': 1, 'Rallying': 1, 'Because': 1, 'Street': 1, 'Care': 2, 'Wins': 1, 'Ugly': 1, 'Truth': 1, 'Netflix': 3, 'Cuties': 1, 'Pedobait': 1, 'Scandal': 1, 'Housing': 1, 'Save': 3, 'Capitalism': 1, 'We': 4, 'It': 12, 'Persona': 1, 'May': 1, 'Herald': 1, 'PC': 1, 'Golden': 2, 'Age': 2, 'Sega': 1, 'Obvious': 1, 'Kate': 1, 'Middleton': 1, 'Didn': 2, 'Pander': 1, 'Radio': 1, 'Flyer': 1, 'Tesla': 4, 'Model': 1, 'Y': 1, 'powered': 1, 'kids': 1, 'feet': 1, 'Samsung': 2, 'Galaxy': 1, 'Note': 2, '20': 1, 'Ultra': 1, 'review': 1, 'Unabashedly': 1, 'Hisense': 1, 'laser': 1, 'projector': 1, 'comes': 1, 'inch': 1, 'screen': 1, 'Google': 3, 'smart': 1, 'displays': 1, 'simplify': 1, 'multi': 1, 'room': 1, 'audio': 1, 'asks': 2, 'type': 1, 'wireless': 1, 'broadband': 1, 'Greg': 1, 'Berlanti': 1, 'impact': 1, 'Arrowverse': 1, 'crossover': 2, 'em': 10, 'Brooklyn': 1, 'Nine': 2, 'star': 2, 'Melissa': 1, 'Fumero': 1, 'out': 2, 'Canadian': 1, 'remake': 1, 'whitewashed': 1, 'casting': 1, 'Suicide': 7, 'Squad': 6, 'James': 5, 'Gunn': 3, 'reveals': 3, 'bunch': 2, 'footage': 2, 'Flash': 2, 'movie': 1, 'Barry': 1, 'Allen': 1, 'suit': 1, 'Gal': 1, 'Gadot': 1, 'off': 4, 'defends': 1, 'interview': 1, 'clip': 1, 'resurfaces': 1, 'victim': 2, 'What': 8, 'this': 5, 'Weekend': 2, 'Lucifer': 1, 'rises': 2, 'again': 4, 'season': 1, '5': 1, 'premiere': 1, 'San': 1, 'Francisco': 1, '49ers': 1, 'lineman': 1, 'Trent': 1, 'Williams': 2, 'praise': 1, 'teammate': 1, 'Nick': 1, 'Bosa': 1, 'Brittney': 1, 'Griner': 1, 'leaves': 1, 'WNBA': 1, 'bubble': 1, 'Phoenix': 1, 'Mercury': 1, 'announce': 1, 'Mavericks': 1, 'Luka': 1, 'Doncic': 1, 'likely': 2, 'game': 10, 'time': 3, 'decision': 1, 'Game': 4, 'vs': 5, 'Clippers': 1, 'Bucks': 1, 'Marvin': 1, 'Magic': 1, 'Ennis': 1, 'ejected': 1, 'Eastern': 2, 'Conference': 2, 'round': 5, 'altercation': 1, 'Ron': 1, 'Rivera': 1, 'acknowledges': 1, 'struggles': 2, 'team': 2, 'step': 1, 'Ravens': 1, 'sent': 1, 'Earl': 1, 'Thomas': 1, 'home': 1, 'Friday': 2, 'fiery': 1, 'field': 1, 'argument': 1, 'Chuck': 1, 'source': 1, 'Fantasy': 1, 'football': 1, 'rankings': 1, 'Eric': 1, 'Karabell': 1, 'running': 1, 'tiers': 1, 'PCB': 1, 'hands': 1, 'Umar': 1, 'Akmal': 1, 'three': 1, 'year': 1, 'ban': 4, 'all': 1, 'cricket': 1, 'ESPNcricinfo': 10, 'com': 9, 'Akram': 1, 'yorkers': 1, 'Hegg': 1, 'Chapple': 1, '18': 1, 'realised': 1, 'can': 6, 'also': 1, 'cry': 1, 'winning': 1, 'Five': 5, 'people': 2, 'didn': 2, 'know': 1, 'profiles': 1, 'Sri': 1, 'Lanka': 1, 'don': 1, 'win': 2, '1996': 1, 'World': 3, 'Cup': 5, 'fighting': 1, 'own': 1, 'benchmarks': 1, 'Ashwin': 1, 'soap': 1, 'opera': 1, 'starring': 1, 'KP': 1, 'Warnie': 1, 'Mahela': 1, 'CSK': 1, 'games': 1, 'hardcore': 1, 'fans': 1, 'remember': 2, 'ball': 1, 'whole': 3, 'world': 4, 'Saeed': 1, 'Ajmal': 1, 'v': 1, 'Sachin': 1, 'Tendulkar': 1, 'revisited': 1, 'learned': 1, 'watching': 1, '1992': 1, 'final': 1, 'full': 1, 'pair': 1, 'twin': 1, 'YouTubers': 1, 'offer': 1, 'lesson': 1, 'openness': 1, 'Paul': 1, 'Ryan': 3, 'onto': 1, 'SPAC': 1, 'train': 1, 'Barack': 1, 'Obama': 2, 'taking': 1, 'too': 2, 'Chinese': 2, 'Internets': 1, 'drifting': 1, 'apart': 1, 'bad': 2, 'finally': 1, 'reclaiming': 1, 'house': 1, 'dress': 1, 'Corporate': 1, 'values': 1, 'under': 1, 'presidency': 2, 'rally': 1, 'even': 1, 'unemployment': 1, 'spike': 1, 'spurred': 1, 'rapid': 1, 'transformation': 1, 'care': 3, 'Let': 3, 'sure': 1, 'stays': 1, 'way': 2, 'female': 1, 'leaders': 1, 'faring': 1, 'better': 1, 'than': 4, 'wartime': 1, 'presidents': 1, 'against': 3, 'President': 2, 'going': 2, 'postal': 2, 'Students': 1, 'pivot': 1, 'virtual': 1, 'learning': 1, 'Newt': 1, 'Gingrich': 1, 'boffo': 1, 'hobble': 1, 'rest': 1, 'campaign': 2, 'attack': 2, 'Marquese': 1, 'Love': 3, 'kicked': 1, 'him': 1, 'behind': 4, 'Pelosi': 8, 'trying': 2, 'scare': 1, 'any': 1, 'attention': 1, 'president': 3, 'saying': 1, 'holds': 1, 'rare': 5, 'Saturday': 4, 'funding': 3, 'important': 1, 'shine': 1, 'light': 1, 'Sen': 1, 'John': 1, 'Kennedy': 1, 'relief': 2, 'fight': 2, 'Rep': 1, 'Jim': 1, 'Jordan': 1, 'debate': 2, 'guest': 1, 'shoots': 1, 'groom': 1, 'chest': 1, 'bride': 1, 'refuses': 1, 'talk': 2, 'Missing': 1, 'Arkansas': 1, 'jogger': 1, 'suspect': 1, 'custody': 1, 'reports': 1, 'WWE': 2, 'Night': 1, 'SmackDown': 1, '17th': 1, 'minutes': 1, 'FRIDAY': 1, 'NIGHT': 1, 'SMACKDOWN': 1, 'VIDEO': 1, 'Which': 1, 'members': 1, 'Madden': 1, '21': 1, '99': 1, 'Club': 1, 'around': 4, 'MVP': 1, 'Cy': 1, 'Rookie': 1, 'Year': 2, 'favorites': 1, 'awards': 1, 'NFL': 4, 'News': 2, 'Videos': 2, 'Scores': 1, 'Teams': 1, 'Standings': 1, 'Stats': 1, 'Daniel': 1, 'Snyder': 1, 'respond': 1, 'Thursday': 1, 'Post': 3, 'story': 1, 'Detroit': 1, 'firefighter': 1, 'veteran': 1, 'diving': 1, 'river': 1, 'save': 2, 'young': 1, 'girls': 1, 'pass': 1, '25bn': 1, 'fund': 1, 'Syracuse': 1, 'University': 1, 'suspends': 1, '23': 1, 'incredibly': 1, 'reckless': 1, 'gathering': 1, 'looks': 1, 'optimistic': 1, 'reboot': 1, '1': 8, 'million': 2, 'acres': 1, 'burned': 1, 'since': 3, 'monster': 1, 'fires': 2, 'rage': 1, 'Bay': 1, 'Area': 1, 'pose': 1, 'double': 1, 'hurricane': 3, 'threat': 1, 'block': 3, 'controversial': 1, 'Alaska': 1, 'gold': 1, 'mine': 1, '14': 3, 'hour': 1, 'storm': 1, 'caused': 1, 'extensive': 1, 'damage': 1, 'Now': 5, 'Iowans': 1, 'recover': 1, 'land': 2, 'Reverse': 1, 'engineering': 1, '8086': 1, 'Arithmetic': 1, 'Logic': 1, 'Unit': 1, 'die': 1, 'photos': 1, 'degoogle': 1, 'Future': 2, 'DeepSpeech': 1, 'STT': 1, 'recent': 1, 'Mozilla': 1, 'Build': 1, 'tools': 2, 'workflows': 2, 'VTM': 1, 'Initial': 1, 'offerings': 1, 'Zero': 1, 'G': 1, 'Some': 2, 'mobile': 2, 'still': 1, 'waiting': 1, 'signal': 1, 'Lyft': 1, 'competitors': 1, 'ready': 2, 'pounce': 1, 'service': 1, 'suspended': 1, 'Mystery': 1, 'Interstellar': 1, 'Visitor': 1, 'lsquo': 1, 'Oumuamua': 1, 'Trickier': 1, '22': 1, 'investors': 3, 'backed': 1, 'Bezos': 1, '1994': 1, 'Their': 4, 'returns': 2, 'Mind': 1, 'boggling': 1, 'Trevor': 1, 'Alive': 1, 'Pine': 1, 'Return': 1, 'Explained': 1, 'IGN': 10, 'Gotham': 5, 'Knights': 6, 'WB': 3, 'Games': 4, 'Montreal': 2, 'Explains': 2, 'Killed': 1, 'Batman': 5, 'Trailer': 1, 'Full': 1, 'Cast': 2, 'Character': 1, 'Reveals': 2, '12': 2, 'Years': 1, 'Slave': 1, 'Screenwriter': 1, 'Reinvents': 1, 'Dark': 1, 'Knight': 1, '2021': 2, 'Daily': 2, 'Deals': 2, 'Savings': 1, 'DC': 4, 'Movies': 1, 'FanDome': 3, 'Best': 6, 'Announcements': 1, 'So': 2, 'Far': 2, 'Gritty': 1, 'War': 2, 'Exploding': 1, 'Genitals': 1, 'Costume': 1, 'Revealed': 2, 'Does': 1, 'Idris': 1, 'Elba': 1, 'Play': 1, 'iPhone': 1, 'Screen': 1, 'Time': 1, 'helpful': 1, 'AOC': 1, 'opens': 1, 'threats': 2, 'baseball': 1, 'shows': 2, 'offensive': 1, 'video': 2, 'now': 2, 'kick': 1, 'riders': 1, 'low': 1, 'ratings': 1, 'Metal': 2, 'Mario': 1, 'makes': 1, 'Hot': 1, 'Wheels': 1, 'debut': 1, 'summer': 2, 'challenges': 1, 'smaller': 1, 'cheaper': 1, 'Echo': 1, 'Show': 1, 'Doom': 1, 'Patrol': 1, 'superhero': 1, 'show': 2, 'understands': 1, 'trauma': 1, 'court': 3, 'older': 1, 'women': 1, 'demographic': 1, 'Facebook': 6, 'Even': 2, 'mild': 1, 'produce': 1, 'long': 1, 'lasting': 1, 'dangerous': 2, 'because': 3, 'SARS': 1, 'CoV': 1, 'reduces': 1, 'specific': 1, 'microRNAs': 1, 'Treating': 1, 'Bipolar': 1, 'promise': 1, 'other': 1, 'hopeful': 1, 'findings': 1, 'Room': 1, 'beyond': 1, 'Tool': 1, 'help': 4, 'manage': 1, 'patients': 2, 'diabetes': 1, 'Dry': 1, 'heat': 1, 'effectively': 1, 'sanitize': 1, 'N95': 1, 'masks': 1, 'Black': 4, 'Lives': 2, 'Matter': 1, 'change': 2, 'science': 1, 'society': 1, 'blood': 1, 'speed': 1, 'development': 1, 'population': 1, 'screening': 1, 'weather': 2, 'affect': 1, 'Morning': 3, 'MSNBC': 3, 'Scarborough': 1, 'MTP': 1, 'Beat': 1, 'Ari': 1, 'Melber': 1, 'Travis': 1, 'Scott': 1, 'Plan': 1, 'Bass': 1, 'Rattling': 1, 'Tenet': 1, 'Trip': 1, 'Greyson': 1, 'Chance': 1, 'Victory': 1, 'Bell': 1, 'Tomberlin': 1, 'Wasted': 1, 'Dream': 2, 'Songs': 1, 'BTS': 1, 'Detonate': 1, 'Dynamite': 1, 'An': 2, 'Infectiously': 1, 'Catchy': 1, 'Disco': 1, 'Listen': 2, 'Twice': 1, 'Energetic': 1, 'English': 1, 'Take': 1, 'On': 4, 'DaBaby': 1, 'Eyed': 1, 'Peas': 1, 'Bring': 1, 'Heat': 1, 'Performing': 1, 'At': 2, 'VMAs': 1, 'robot': 1, 'revolution': 1, 'arrived': 1, 'explored': 1, 'humanity': 2, 'complicated': 1, 'relationship': 1, 'robots': 1, 'rhino': 1, 'had': 3, 'percent': 2, 'poacher': 1, 'convictions': 1, 'closed': 1, 'artists': 1, 'drawn': 1, 'dangerously': 1, 'close': 1, 'isolated': 1, 'Arrow': 1, 'Farming': 1, 'coffee': 1, 'continues': 1, 'grow': 1, 'hope': 2, 'Caquetá': 1, 'Colombia': 1, 'Tainted': 1, 'sanitizers': 1, 'bootleg': 1, 'booze': 1, 'poisoning': 1, 'En': 1, 'garde': 1, 'France': 1, 'dueling': 1, 'capital': 1, 'vaccines': 1, 'become': 1, 'mandatory': 1, 'how': 4, 'might': 1, 'work': 1, 'historic': 1, 'cemeteries': 1, 'Zuckerberg': 1, 'Defends': 1, 'Refusal': 1, 'Censor': 1, 'Political': 1, 'Ads': 1, 'Themselves': 1, 'Politicians': 1, 'Saying': 1, 'Ukraine': 2, 'Zelensky': 1, 'Denies': 1, 'Negotiating': 1, 'Quid': 1, 'Quo': 1, 'Criticizes': 1, 'Stance': 1, 'Corruption': 1, 'Aunt': 1, 'Becky': 1, 'Underpaid': 1, 'Teachers': 1, 'Myth': 1, 'Go': 1, 'College': 2, 'Become': 2, 'Welder': 1, 'Hey': 3, 'Christians': 1, 'Welcoming': 1, 'Committee': 1, 'Counterintuitive': 1, 'Compelling': 1, 'Case': 1, 'Class': 1, 'Action': 1, 'Lawsuits': 1, 'History': 2, 'Short': 1, 'Weakened': 1, 'State': 4, 'Presents': 1, 'Dangers': 1, 'Kenneth': 1, 'i': 4, 'Civilisation': 1, 'Half': 1, 'Century': 2, 'Al': 1, 'Pacino': 1, 'Matters': 1, 'debates': 1, 'funds': 1, 'session': 1, 'Spruced': 1, 'supremacy': 1, 'child': 1, 'separations': 1, 'officials': 1, 'critics': 1, 'say': 2, 'Belarus': 1, 'appears': 2, 'media': 3, 'websites': 1, 'opposition': 1, 'leader': 1, 'protests': 1, 'serve': 1, 'contact': 1, 'tracers': 1, 'colors': 1, 'campus': 1, 'Russia': 4, 'report': 1, 'proves': 1, 'wrong': 2, 'Mueller': 1, 'right': 1, 'Do': 2, 'Kremlin': 1, 'critic': 1, 'flight': 2, 'Germany': 2, 'coma': 1, 'looms': 1, 'nationwide': 1, 'rallies': 1, 'viral': 1, 'SavetheChildren': 1, 'hashtags': 1, 'failed': 1, 'Ferraro': 1, 'Palin': 1, 'their': 2, 'VP': 1, 'campaigns': 1, 'teach': 2, 'us': 2, 'sexism': 1, 'Covid': 5, 'UK': 1, 'level': 1, 'number': 1, 'slightly': 1, 'Man': 1, 'half': 1, 'every': 2, 'face': 1, 'like': 2, 'melting': 1, 'due': 1, 'brain': 1, 'lesion': 1, 'Cancer': 1, 'tumour': 1, 'microbiome': 1, 'predict': 1, 'chances': 1, 'survival': 1, 'infected': 1, 'Walking': 1, 'catfish': 1, 'use': 2, 'body': 1, 'smell': 1, 'when': 1, 'Sea': 1, 'turtles': 1, 'carrying': 1, 'thermometers': 1, 'improve': 1, 'forecasts': 1, 'should': 2, 'rewild': 1, 'sky': 1, 'restore': 1, 'atmosphere': 1, 'its': 4, 'former': 2, 'glory': 1, 'dark': 1, 'matter': 1, 'called': 1, 'something': 1, 'else': 2, 'Hiroshima': 1, 'teaches': 1, 'forecast': 1, 'fake': 1, 'outbreaks': 1, 'social': 2, 'coming': 1, 'Minnesota': 1, 'Nebraska': 1, 'Say': 1, 'Cases': 1, 'Linked': 1, 'Sturgis': 1, 'Motorcycle': 1, 'Rally': 2, 'Over': 1, 'Battleground': 1, 'States': 3, 'Points': 1, 'Russian': 2, 'Opposition': 1, 'Leader': 1, 'Was': 1, 'Taken': 1, 'Us': 2, 'Secret': 1, 'Press': 1, 'Sec': 1, 'ISIS': 1, 'Church': 1, 'Bombs': 1, 'China': 4, 'Gain': 1, 'Indian': 1, 'Ocean': 1, 'Ally': 1, 'Chagrin': 1, 'Designed': 1, 'Michelle': 1, 'VOTE': 1, 'Necklace': 1, 'Leading': 1, 'Engineering': 1, 'Computer': 1, 'Science': 1, 'Programs': 1, 'Brands': 2, 'Trust': 1, 'Most': 1, 'Maternity': 1, 'Hospitals': 1, 'Realtors': 1, 'Newsweek': 1, 'AMPLIFY': 1, 'Empowers': 1, 'Affiliate': 1, 'Through': 1, 'Digital': 1, 'Content': 2, '13': 1, 'Should': 1, 'Read': 3, 'Scale': 1, 'Dominance': 1, 'Tricks': 1, 'Into': 1, 'Thinking': 1, 'Hype': 1, 'artificial': 1, 'intelligence': 1, 'AGI': 1, 'Ben': 1, 'Goertzel': 1, 'Interview': 1, 'Artificial': 1, 'General': 1, 'Intelligence': 1, 'elon': 1, 'musk': 1, 'Overcome': 1, 'Denial': 1, 'Next': 1, '8': 1, 'Months': 1, 'Trillion': 1, 'Giant': 1, 'Prompting': 1, 'Enterprises': 1, 'Adjust': 1, 'Integrated': 1, 'Strategies': 1, 'energy': 1, 'Pocket': 1, 'Sized': 1, 'Particle': 1, 'Accelerator': 1, 'Using': 1, 'THz': 1, 'Laser': 1, 'Pulses': 1, 'Emmitt': 1, 'Smith': 1, 'Cowboys': 1, 'play': 2, 'chicken': 1, 'Dak': 1, 'Raiders': 1, 'CB': 2, 'Prince': 1, 'Amukamara': 1, 'agree': 2, 'terms': 1, 'Meyer': 1, 'Haskins': 1, 'needs': 1, 'great': 2, 'players': 1, 'elite': 1, 'culture': 1, 'Colts': 1, 'excited': 1, 'punch': 1, 'RBs': 1, 'Mack': 1, 'Taylor': 1, 'closely': 1, 'monitor': 2, 'restart': 1, 'soccer': 1, 'Falcons': 1, 'bring': 1, 'competition': 1, 'Younghoe': 1, 'Koo': 1, 'Jets': 2, 'showing': 1, 'interest': 1, 'free': 2, 'agent': 1, 'Logan': 1, 'Cards': 1, 'Isaiah': 1, 'Simmons': 1, 'focus': 1, 'Dolphins': 1, 'Tua': 1, 'Tagovailoa': 1, 'tops': 1, 'jersey': 1, 'sales': 1, 'draft': 1, 'Gase': 1, 'Frank': 1, 'Gore': 1, 'brings': 1, 'hard': 1, 'Canucks': 2, 'playoff': 2, 'preview': 2, 'Stamkos': 1, 'won': 2, 'Lightning': 1, 'Bruins': 1, 'Canadiens': 1, 'luck': 1, 'while': 1, 'losing': 1, 'Flyers': 1, 'Round': 2, 'Blues': 1, 'overcome': 1, 'Binnington': 1, 'Stanley': 3, 'Playoffs': 3, 'spring': 1, 'second': 4, 'Keys': 1, 'Stars': 2, 'Avalanche': 2, 'Western': 1, 'Second': 2, 'Projected': 1, 'lineups': 1, 'starting': 1, 'goalies': 1, 'today': 1, 'schedule': 1, 'predictions': 1, 'Federal': 1, 'judge': 1, 'rules': 1, 'Cuccinelli': 1, 'appointment': 1, 'unlawful': 1, 'fighter': 1, 'pilot': 1, 'takes': 2, 'astronaut': 1, 'McSally': 1, 'Arizona': 1, 'mission': 2, 'remakes': 1, 'Harley': 1, 'Quinn': 1, 'unleashes': 1, 'villains': 3, 'Fandome': 1, 'Microsoft': 1, 'Flight': 2, 'Simulator': 2, 'visual': 1, 'glitches': 1, 'sprinkle': 1, 'cosmic': 1, 'horror': 1, 'Gear': 1, 'Solid': 1, 'board': 1, 'delayed': 1, 'responds': 1, 'Epic': 5, 'Fortnite': 6, 'lawsuit': 1, 'Tim': 1, 'Sweeney': 1, 'asked': 2, 'special': 2, 'deal': 2, 'Ubisoft': 1, 'collector': 1, 'editions': 1, 'Xbox': 1, 'Series': 1, 'include': 1, 'disc': 1, 'copies': 1, 'Everything': 1, 'leaving': 1, 'Destiny': 2, 'Beyond': 1, 'Light': 1, 'teases': 1, 'mysterious': 1, 'Marvel': 1, 'seems': 1, 'involve': 1, 'Thor': 1, 'Court': 5, 'Owls': 2, 'Dynasty': 1, 'Toys': 1, 'rich': 1, 'quick': 1, 'scheme': 1, 'cost': 1, 'sellers': 1, 'thousands': 1, 'then': 1, 'got': 1, 'them': 1, 'banned': 1, 'explained': 2, 'Walmart': 1, 'Target': 1, 'reap': 1, 'rewards': 1, 'restrictions': 1, 'strategy': 1, 'Lincoln': 1, 'Project': 1, 'anti': 1, 'PAC': 1, 'just': 3, 'embraced': 1, 'followers': 1, 'violent': 1, 'movement': 1, 'bans': 1, 'groups': 1, 'Photos': 1, 'mailboxes': 1, 'being': 1, 'removed': 1, 'aren': 1, 'always': 1, 'seem': 1, 'companies': 2, 'censor': 1, 'majority': 1, 'Americans': 1, 'think': 3, 'misinformation': 1, 'Twitter': 1, 'worries': 1, 'experts': 1, 'parent': 1, 'dares': 1, 'iPhones': 1, 'r': 7, 'memes': 1, 'Spitting': 1, 'straight': 1, 'faxx': 1, 'aww': 1, 'Parrot': 1, 'reaction': 1, 'music': 1, 'dankmemes': 1, 'gives': 1, 'me': 1, 'cyberpunk': 1, '2077': 1, 'BeAmazed': 1, 'Champ': 1, 'HumansBeingBros': 1, 'Helping': 1, 'stray': 1, 'Dog': 1, 'ScottishPeopleTwitter': 1, 'Just': 2, 'share': 1, 'Reddit': 1, 'Interested': 1, 'Cloud': 2, 'changing': 1, 'adapting': 1, 'quot': 2, 'normal': 1, 'Then': 1, 'check': 1, 'our': 3, 'AMA': 1, 'Tristan': 1, 'Morel': 1, 'L': 1, 'Horset': 1, 'lead': 1, 'Accenture': 1, 'amp': 1, 'Infrastructure': 1, 'Growth': 1, 'gaming': 1, 'someone': 1, 'copying': 1, 'your': 3, 'answers': 1, 'write': 1, 'ones': 1, 'she': 1, 'thinking': 1, 'Gorilla': 1, 'messing': 1, 'friend': 1, 'humanlike': 1, 'P': 1, '500': 1, 'closes': 1, 'nominally': 1, 'higher': 1, 'spikes': 1, 'muted': 1, 'data': 1, 'unfit': 2, 'Democrat': 1, 'conservative': 2, 'Bolton': 1, 'stock': 1, 'markets': 1, 'slip': 1, 'wave': 1, 'fears': 1, 'safe': 1, 'havens': 1, 'rise': 1, 'pledges': 1, 'list': 1, 'Supreme': 3, 'contenders': 1, 'Atlanta': 1, 'officer': 1, 'witness': 1, 'Rayshard': 1, 'case': 1, 'foreign': 1, 'ministry': 1, 'DACA': 1, 'program': 2, 'developments': 1, 'ethically': 1, 'continue': 1, 'oversight': 1, 'organized': 1, 'hate': 1, 'policy': 1, 'wants': 3, 'start': 1, 'building': 1, 'vehicle': 1, 'plant': 1, 'blocks': 1, 'bid': 1, 'end': 1, 'Dreamers': 1, 'immigrant': 1, 'Palantir': 1, 'revenue': 1, 'mystery': 1, 'Startups': 1, 'unicorns': 1, 'go': 1, 'sooner': 1, 'Launched': 1, 'Norwest': 1, 'Tau': 1, 'Ventures': 1, 'closeup': 1, 'MacBook': 1, 'SE': 1, 'Bletchley': 1, 'Park': 1, 'birth': 1, 'place': 1, 'computer': 1, 'uncertain': 1, 'income': 1, 'Hear': 1, 'experienced': 1, 'edtech': 1, 'market': 1, 'overnight': 1, 'boom': 1, 'Week': 1, 'Apps': 1, 'antitrust': 1, 'war': 1, 'alt': 1, 'ecosystems': 1, 'proven': 1, 'ways': 1, 'attract': 1, 'hire': 1, 'diverse': 1, 'talent': 1, 'Original': 1, 'podcast': 1, 'Selling': 1, 'Sunset': 1, 'everyone': 1, 'villain': 1, 'VCs': 1, 'discuss': 1, 'code': 1, 'horizontal': 1, 'across': 1, 'industries': 1, 'Test': 1, 'd': 5, 'Arcade': 1, 'tvOS': 1, 'date': 1, 'de': 3, 'sortie': 1, 'version': 1, 'bêta': 1, 'et': 2, 'nouvelles': 1, 'fonctionnalités': 1, 'la': 3, 'prochaine': 1, 'mise': 1, 'à': 2, 'jour': 1, 'TV': 1, 'PlayStation': 1, 'Store': 2, 'économisez': 1, 'jusqu': 1, '70': 2, 'sur': 1, 'des': 2, 'centaines': 1, 'jeux': 1, 'PS4': 1, 'prépare': 1, 'rentrée': 1, 'classes': 1, 'offre': 1, 'une': 1, 'paire': 1, 'AirPods': 1, 'gratuits': 1, 'aux': 1, 'étudiants': 1, 'Le': 1, 'Canon': 1, 'EOS': 1, 'R6': 1, 'est': 1, 'le': 1, 'nouveau': 1, 'concurrent': 1, 'puissant': 1, 'du': 1, 'Nikon': 1, 'Z6': 1, 'Les': 1, 'meilleures': 1, 'imprimantes': 1, 'multifonctions': 1, 'pour': 1, 'maison': 1, 'Two': 1, 'Icons': 1, 'Rubio': 1, 'Rise': 2, 'Neoreactionaries': 1, 'Cold': 1, 'Triumphalism': 1, 'Kennan': 1, 'Warning': 1, 'Modernity': 1, 'Robinson': 1, 'Crusoe': 1, 'American': 3, 'Art': 1, 'Pioneer': 1, 'Resurrecting': 1, 'Dean': 1, 'Forgotten': 1, 'Treasure': 1, 'These': 1, 'Lands': 1, 'Sexist': 1, 'Desperate': 1, 'Bully': 1, 'Warren': 1, 'Poetry': 1, 'Populism': 1, 'Woke': 1, 'Military': 1, 'Really': 1, 'Preparing': 1, 'TAC': 1, 'Regime': 1, 'Change': 1, 'Foreign': 1, 'Policy': 1, 'Progressives': 1, 'Tell': 2, 'Ends': 1, 'Inside': 1, 'Ed': 1, 'Markey': 1, 'unlikely': 1, 'emergence': 1, 'icon': 1, 'activists': 1, 'TheHill': 10, 'Meadows': 2, 'Capitol': 1, 'stalled': 1, 'negotiations': 1, 'hammers': 1, 'delays': 2, 'far': 2, 'worse': 2, 'previously': 1, 'acknowledged': 1, 'Outgoing': 1, 'Democratic': 2, 'chairman': 1, 'crunch': 1, 'Pompeo': 2, 'probe': 1, 'six': 1, 'key': 2, 'swing': 1, 'handle': 1, 'rails': 1, 'testing': 1, 'poised': 1, 'approve': 1, '25B': 1, 'seeks': 1, 'victory': 1, 'prescription': 1, 'drugs': 1, 'unites': 1, 'Debates': 1, 'Sending': 1, 'Billion': 1, 'Rare': 1, 'Session': 1, 'Cultists': 1, 'Emboldened': 1, 'By': 2, 'Hollywood': 1, 'Spread': 1, 'Dangerous': 1, 'Conspiracies': 1, 'Gather': 1, 'Locations': 1, 'Nationwide': 1, 'Office': 1, 'Storms': 1, 'Potential': 1, 'Double': 1, 'Threat': 1, 'Than': 1, 'Ex': 1, 'Security': 2, 'Endorse': 1, 'Scientists': 1, 'Needed': 2, '300': 1, 'Unemployment': 1, 'Benefit': 1, 'Guide': 1, 'Starts': 1, 'Took': 2, 'Holiday': 1, 'Paying': 1, 'Price': 1, 'Official': 1, 'He': 1, 'Would': 1, 'Resign': 1, 'Agency': 1, 'Rubber': 1, 'Stamps': 1, 'Unproven': 1, 'Vaccine': 1, 'Updates': 1, 'Latest': 1, 'Fatty': 1, 'acids': 1, 'fish': 1, 'treat': 1, 'asthma': 1, 'AI': 2, 'human': 1, 'perception': 1, 'complex': 1, 'compared': 1, 'Adobe': 1, 'web': 1, 'design': 1, 'training': 1, 'creators': 1, 'unleash': 1, 'apps': 1, 'nothing': 1, 'accelerating': 1, 'shift': 1, 'away': 1, 'fossil': 1, 'fuels': 1, 'Red': 1, 'giant': 1, 'Betelgeuse': 1, 'dimmed': 1, 'sneezed': 1, 'astronomers': 1, 'explain': 1, 'Grab': 1, 'popcorn': 1, 'filing': 1, 'find': 1, 'alternate': 1, 'language': 1, 'options': 1, 'HBO': 1, 'Max': 1, 'Intel': 1, 'give': 1, 'cyborg': 1, 'voice': 1, 'worth': 1, 'trillion': 1, 'crashed': 1, 'NASDAQ': 1, 'GPT': 1, 'Fall': 1, 'Guys': 1, 'perfect': 1, 'confirms': 1, 'administration': 1, 'sequel': 1, 'schooled': 1, 'universities': 1, 'WordPress': 1, 'claims': 2, 'cut': 1, 'completely': 1, 'emails': 1, 'led': 1, 'App': 1, 'payments': 1, 'Wildfires': 2, 'Grow': 1, 'Third': 1, 'Largest': 1, 'Critic': 1, 'Evacuated': 1, 'Bond': 1, 'Yields': 1, 'Strong': 1, 'Crop': 1, 'Farmers': 1, 'Suffering': 1, 'Set': 2, 'Vote': 1, 'Bill': 1, 'Barring': 1, 'Cuts': 2, 'South': 1, 'Africa': 1, 'Lifts': 1, 'Wine': 1, 'Sales': 1, 'Many': 1, 'Vintners': 1, 'Fear': 1, 'Too': 2, 'Late': 1, 'Dividing': 1, 'Worker': 1, 'Breaks': 1, 'Writing': 1, 'Barrier': 1, 'David': 1, 'Pecker': 1, 'CEO': 1, 'Enquirer': 1, 'Parent': 1, 'Steps': 1, 'Amid': 1, 'Merger': 1, 'Logistics': 1, 'Firm': 1, 'Salary': 1, 'Coming': 1, 'End': 2, 'Companies': 1, 'Election': 11, 'live': 10, 'Pence': 10, 'visit': 10, 'site': 10, 'criticize': 10, 'willingness': 10, 'country': 10, 'Chair': 1, 'Maloney': 1, 'Mail': 1, 'were': 1, 'Nancy': 1, 'trafficking': 1, 'voter': 1, 'suppression': 1, 'skinny': 1, 'package': 1, 'request': 1, 'deficient': 1, 'recommend': 1, 'election': 3, 'ballot': 2, 'requests': 1, 'surge': 1, 'Bernie': 1, 'Sanders': 1, 'serious': 1, 'teaming': 1, 'Mike': 1, 'tool': 1, 'keep': 1, 'beefing': 1, 'Iran': 1, 'weapons': 1, 'arsenal': 1, 'FBI': 1, 'warns': 1, 'cyberattacks': 1, 'counterintelligence': 1, 'facing': 1, 'D': 1, 'C': 1, 'tanks': 1, 'Entirely': 1, 'Empty': 1, 'Bowels': 1, 'Every': 2, 'Surgeon': 2, 'Heart': 1, 'Throw': 1, 'Olive': 1, 'Oil': 1, 'Finding': 1, 'Hope': 1, 'TIME': 1, 'Community': 1, 'Navigating': 1, 'Our': 2, 'Reality': 1, 're': 1, 'Regressing': 1, 'Teenage': 1, 'Self': 1, 'Renters': 1, 'Being': 2, 'Forced': 1, 'Eviction': 1, 'Moratoriums': 1, 'Meant': 1, 'Protect': 1, 'Signature': 1, 'Appear': 2, 'Stimulus': 1, 'Checks': 1, 'York': 1, 'City': 1, 'Doctor': 1, 'Describe': 1, 'Medical': 1, 'Professionals': 1, 'Against': 1, 'Otherwise': 1, 'Alone': 1, 'Foster': 1, 'Pets': 1, 'Offer': 1, 'Companionship': 1, 'Isolation': 1, 'Ditching': 1, 'Zoom': 1, '10': 1, 'Chat': 1, 'Alternatives': 1, 'Use': 1, 'Instead': 1, 'recess': 1, 'additional': 1, 'United': 1, 'Redwoods': 1, 'burn': 1, 'Basin': 1, 'park': 1, 'lightning': 1, 'possible': 1, 'weekend': 1, 'Hurry': 1, 'dying': 1, 'hospital': 1, 'chaplain': 1, 'journal': 1, 'chronicles': 1, 'private': 1, 'wounds': 1, 'federal': 1, 'judiciary': 1, 'rising': 1, 'issue': 1, 'presidential': 1, 'elections': 1, 'hurricanes': 1, 'collide': 1, 'happen': 1, 'meet': 1, 'Not': 1, 'easy': 1, 'task': 1, 'scrambles': 1, 'finalize': 1, 'plans': 1, 'venue': 1, 'input': 1, 'Gannett': 1, 'Diversity': 1, 'inclusion': 1, 'choices': 1, 'words': 1, 'reaffirm': 1, 'Where': 1, 'absentee': 1, 'INSIDE': 2, 'Amway': 2, 'Coaches': 2, 'Head': 1, 'Coach': 1, 'Mark': 1, 'Richt': 1, 'joins': 1, 'plus': 1, 'Aber': 1, 'Oklahoman': 1, 'Omny': 1, 'fm': 1, 'Lawmaker': 1, 'Tested': 1, 'Positive': 1, 'Bother': 1, 'His': 1, 'Colleagues': 1, 'Congressman': 1, 'Officiated': 1, 'Gay': 1, 'Cost': 1, 'Him': 1, 'Hong': 1, 'Kong': 1, 'Law': 1, 'Approved': 1, 'Protest': 2, 'Movement': 1, 'Worst': 1, 'Nightmare': 1, 'Right': 1, 'Social': 1, 'Network': 1, 'Gab': 1, 'Has': 1, 'Verified': 1, 'Account': 2, 'Waiting': 1, '27': 1, 'Followers': 1, 'Minneapolis': 1, 'Burning': 1, 'Loot': 1, 'Buildings': 1, 'Fire': 1, 'Killing': 1, 'George': 3, 'Floyd': 3, 'Undermine': 1, 'Resisted': 1, 'Officers': 1, 'Huge': 1, 'Milestone': 1, 'Generation': 1, 'Graduates': 1, 'Stop': 1, 'Crying': 1, 'Won': 1, 'Abortion': 1, 'Pills': 1, 'Remotely': 1, 'Pandemic': 1, 'ACLU': 1, 'Suing': 1, 'Tara': 1, 'Reade': 1, 'Investigated': 1, 'Allegedly': 1, 'Lying': 1, 'Witness': 1, 'Stand': 1, 'Cops': 1, 'Involved': 1, 'Fatal': 1, 'Arrest': 1, 'Had': 1, 'Previous': 1, 'Violent': 1, 'Incidents': 1, 'Force': 1, 'Finally': 1, 'Cracks': 1, 'Solar': 1, 'Panels': 1, 'Starting': 1, 'Die': 1, 'Leaving': 1, 'Behind': 1, 'Toxic': 1, 'Trash': 1, 'TVs': 1, 'Budget': 1, 'TCL': 1, 'LG': 1, 'Standing': 1, 'Desk': 1, 'Changed': 1, 'Life': 1, 'Yours': 1, 'Earbuds': 1, 'Robot': 1, 'Vacuums': 1, 'Kill': 1, 'Switch': 1, 'Solves': 1, 'Uncanny': 1, 'Escapism': 1, 'Create': 1, 'Terrifying': 1, 'Weather': 1, '9': 1, 'Cheap': 1, 'Laptops': 1, 'Picks': 1, '700': 1, 'or': 1, 'Less': 1, 'Rocket': 1, 'Scientist': 1, 'Algorithm': 1, 'Adds': 1}\n"
          ],
          "name": "stdout"
        }
      ]
    }
  ]
}